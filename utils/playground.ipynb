{
 "cells": [
  {
   "cell_type": "code",
   "execution_count": 2,
   "metadata": {},
   "outputs": [],
   "source": [
    "from re import I\n",
    "import torch\n",
    "from torch import nn\n",
    "\n",
    "import argparse\n",
    "import json\n",
    "import random\n",
    "\n",
    "from sklearn.metrics import accuracy_score, confusion_matrix, f1_score, roc_auc_score\n",
    "from torch.utils import data\n",
    "from HDF5Dataset import HDF5Dataset\n",
    "import cv2\n",
    "import numpy as np\n",
    "from PIL import Image\n",
    "import pandas as pd\n",
    "import os\n",
    "import glob\n",
    "import matplotlib.pyplot as plt\n",
    "from datetime import datetime\n",
    "from skimage.metrics import structural_similarity as ssim\n",
    "from scipy.spatial import distance\n",
    "import pandas as pd\n",
    "from skimage.util import img_as_float\n",
    "import csv\n",
    "import shutil\n",
    "\n",
    "import random\n",
    "\n",
    "from torch.nn import functional as F\n",
    "\n",
    "from torch.autograd import Variable\n"
   ]
  },
  {
   "cell_type": "markdown",
   "metadata": {},
   "source": [
    "# Merge fakes and train image folder"
   ]
  },
  {
   "cell_type": "code",
   "execution_count": 239,
   "metadata": {},
   "outputs": [],
   "source": [
    "train_dir = r\"G:\\My Drive\\Projektarbeit_ResearchProject\\datasets\\BUS_classification\\resized\\train_val\\260\\500\"\n",
    "fake_dir = r\"G:\\My Drive\\Projektarbeit_ResearchProject\\datasets\\BUS_classification\\resized\\fakes\\StyleGAN2\\500\\200perc\"\n",
    "fakes_and_train_dir = r\"G:\\My Drive\\Projektarbeit_ResearchProject\\datasets\\BUS_classification\\resized\\fakes_and_train\\StyleGAN2\\500\\200perc\"\n",
    "\n",
    "os.makedirs(os.path.join(fakes_and_train_dir, \"images\"), exist_ok=True)\n",
    "dest = os.path.join(fakes_and_train_dir, \"images\")\n",
    "\n",
    "# copy train files\n",
    "train_dir_imgs = os.listdir(os.path.join(train_dir, \"images\"))\n",
    "for img in train_dir_imgs:\n",
    "        full_file_name = os.path.join(os.path.join(train_dir, \"images\"), img)\n",
    "        shutil.copy(full_file_name, dest)\n",
    "\n",
    "# copy fake files\n",
    "fake_dir_imgs = os.listdir(os.path.join(fake_dir, \"images\"))\n",
    "for fake_img in fake_dir_imgs:\n",
    "        full_file_name = os.path.join(os.path.join(fake_dir, \"images\"), fake_img)\n",
    "        shutil.copy(full_file_name, dest)\n",
    "\n",
    "\n",
    "# os.makedirs(os.path.join(fakes_and_train_dir, \"images\"), exist_ok=True)\n",
    "\n",
    "# a = pd.read_csv(os.path.join)\n",
    "# b = pd.read_csv(\"fileb.csv\")"
   ]
  },
  {
   "cell_type": "markdown",
   "metadata": {},
   "source": [
    "# Crop images"
   ]
  },
  {
   "cell_type": "code",
   "execution_count": 60,
   "metadata": {},
   "outputs": [],
   "source": [
    "\n",
    "img_path = r\"G:\\My Drive\\Projektarbeit_ResearchProject\\experiments\\IVUS\\IVUS_STYLEGAN2_DIFFAUG\\IVUS_11_20_2\\00000--cond-auto1-batch32-translation-cutout\\fakes000840.png\"\n",
    "\n",
    "\n",
    "img = Image.open(img_path)\n",
    "area = (0, 0, 8*256, 4*256)\n",
    "cropped_img = img.crop(area)\n",
    "cropped_img.show()\n",
    "\n",
    "dataset_size = 42\n",
    "\n",
    "output_folder = rf\"C:\\Users\\Lenna\\Desktop\\Appendix\\IVUS\\StyleGAN2DiffAug\\samples_for_appendix{dataset_size}.png\"\n",
    "\n",
    "cropped_img.save(output_folder)"
   ]
  },
  {
   "cell_type": "markdown",
   "metadata": {},
   "source": [
    "# Plot metrics over training epochs - BUS"
   ]
  },
  {
   "cell_type": "markdown",
   "metadata": {},
   "source": [
    "## BUS 500"
   ]
  },
  {
   "cell_type": "code",
   "execution_count": 321,
   "metadata": {},
   "outputs": [
    {
     "name": "stdout",
     "output_type": "stream",
     "text": [
      "    cur_nimg  SSIM mean  SSIM std        JS  fid50k_full  kid50k_full\n",
      "0       32.0   0.068464  0.051025  0.553357   378.057790     0.445472\n",
      "1    60032.0   0.150420  0.039749  0.109107   160.921113     0.150490\n",
      "2   120032.0   0.165251  0.050185  0.088155   111.753904     0.081623\n",
      "3   180032.0   0.167487  0.047432  0.107701   103.486715     0.064798\n",
      "4   240032.0   0.166741  0.050446  0.100949    92.429378     0.054246\n",
      "5   300032.0   0.166504  0.046564  0.109432    94.929583     0.057218\n",
      "6   360032.0   0.168172  0.046995  0.102280    79.622900     0.040694\n",
      "7   420032.0   0.165866  0.048103  0.101799    76.005729     0.035472\n",
      "8   480032.0   0.166950  0.048888  0.097074    74.284322     0.034613\n",
      "9   540032.0   0.163210  0.045348  0.090386    76.063223     0.038346\n",
      "10  600032.0   0.165242  0.046501  0.090683    80.047063     0.042395\n",
      "11  660032.0   0.159338  0.045866  0.090056    75.024854     0.039203\n",
      "12  720032.0   0.155701  0.044156  0.105633    78.575260     0.041065\n",
      "13  780032.0   0.157883  0.044062  0.089030    82.719225     0.047071\n",
      "14  840032.0   0.163601  0.047850  0.094988    82.044521     0.045145\n",
      "15  900032.0   0.160597  0.045961  0.096386    87.068643     0.051358\n",
      "16  960032.0   0.159695  0.046114  0.097969    86.556111     0.051510\n"
     ]
    }
   ],
   "source": [
    "metric_1_path_500 = r\"G:\\My Drive\\Projektarbeit_ResearchProject\\experiments\\BUS_classification\\BUS_STYLEGAN2_DIFFAUG\\BUS_11_28_500\\00000--cond-auto1-batch32-translation-cutout\\metrics.csv\"\n",
    "#metric_1_path_p2_500 = r\"G:\\My Drive\\Projektarbeit_ResearchProject\\experiments\\BUS_classification\\BUS_STYLEGAN2_DIFFAUG\\BUS_11_28_500\\00001--cond-auto1-batch32-translation-cutout-resumecustom\\metrics.csv\"\n",
    "\n",
    "metric_2_path_500 = r\"G:\\My Drive\\Projektarbeit_ResearchProject\\experiments\\BUS_classification\\BUS_STYLEGAN2_DIFFAUG\\RUN2\\BUS_05_01_500\\00000--cond-auto1-batch32-translation-cutout\\metrics.csv\"\n",
    "#metric_2_path_p2_500 = r\"G:\\My Drive\\Projektarbeit_ResearchProject\\experiments\\BUS_classification\\BUS_STYLEGAN2_ADA\\RUN2\\BUS_12_25_250\\00001--cond-auto1-batch32-bg-resumecustom\\metrics.csv\"\n",
    "\n",
    "\n",
    "metric_3_path_500 = r\"G:\\My Drive\\Projektarbeit_ResearchProject\\experiments\\BUS_classification\\BUS_STYLEGAN2_DIFFAUG\\RUN3\\BUS_7_1_500\\00000--cond-auto1-batch32-translation-cutout\\metrics.csv\"\n",
    "\n",
    "metric_df_1_500 = pd.read_csv(metric_1_path_500)\n",
    "#metric_1_path_p2 = pd.read_csv(metric_1_path_p2)\n",
    "#metric_df_1 = metric_df_1.append(metric_1_path_p2, ignore_index=True)\n",
    "\n",
    "print(metric_df_1_500)\n",
    "\n",
    "metric_df_2_500 = pd.read_csv(metric_2_path_500)\n",
    "#metric_2_path_p2 = pd.read_csv(metric_2_path_p2)\n",
    "#metric_df_2 = metric_df_2.append(metric_2_path_p2, ignore_index=True)\n",
    "\n",
    "metric_df_3_500 = pd.read_csv(metric_3_path_500)\n",
    "\n",
    "metric = \"fid50k_full\"\n",
    "\n",
    "# join the specific metric of all three runs together\n",
    "metric_df = pd.DataFrame({\"1\": metric_df_1_500[metric], \"2\" : metric_df_2_500[metric], \"3\" : metric_df_3_500[metric]})\n",
    "# Calculate mean\n",
    "metric_df_mean_500 = metric_df.mean(axis=1)\n",
    "#metric_df_mean_500[17] = metric_df_mean_500[17] + 8\n",
    "#metric_df_mean_500.drop(metric_df_mean_500.tail(1).index,inplace=True) # drop last n rows\n",
    "\n",
    "# Calculate max\n",
    "metric_df_max_500 = metric_df.max(axis=1)\n",
    "#metric_df_max_500[17] = metric_df_max_500[17] + 8\n",
    "#metric_df_max_500.drop(metric_df_max_500.tail(1).index,inplace=True) # drop last n rows\n",
    "\n",
    "# Calculate min\n",
    "metric_df_min_500 = metric_df.min(axis=1)\n",
    "#metric_df_min_500[17] = metric_df_min_500[17] + 8\n",
    "#metric_df_min_500.drop(metric_df_min_500.tail(1).index,inplace=True) # drop last n rows\n",
    "\n",
    "\n",
    "x_axis_500 = [i*60 for i in range(18)]\n"
   ]
  },
  {
   "cell_type": "markdown",
   "metadata": {},
   "source": [
    "## BUS 250"
   ]
  },
  {
   "cell_type": "code",
   "execution_count": 322,
   "metadata": {},
   "outputs": [
    {
     "name": "stdout",
     "output_type": "stream",
     "text": [
      "    cur_nimg  SSIM mean  SSIM std        JS  fid50k_full  kid50k_full\n",
      "0       32.0   0.063212  0.041461  0.551087   376.926224     0.425100\n",
      "1    60032.0   0.178908  0.042732  0.174936   199.120857     0.189693\n",
      "2   120032.0   0.176210  0.055694  0.109860   130.580744     0.079624\n",
      "3   180032.0   0.172795  0.050469  0.106280   119.664913     0.066176\n",
      "4   240032.0   0.161744  0.044083  0.103798   120.827951     0.071626\n",
      "5   300032.0   0.170897  0.046486  0.110117   121.497762     0.072038\n",
      "6   360032.0   0.166692  0.048212  0.096166   126.220959     0.081488\n",
      "7   420032.0   0.168510  0.050005  0.082376   121.805039     0.076781\n",
      "8   480032.0   0.169061  0.045576  0.077455   128.967202     0.088163\n",
      "9   540032.0   0.172302  0.051542  0.083029   144.205122     0.105209\n",
      "10  600032.0   0.172281  0.045670  0.084355   143.720228     0.103466\n",
      "11  660032.0   0.170398  0.046159  0.091643   146.603731     0.104832\n",
      "12  720032.0   0.174093  0.049236  0.082727   143.308813     0.103048\n",
      "13  780032.0   0.166362  0.048763  0.096736   149.202358     0.108700\n",
      "14  840032.0   0.160324  0.044446  0.086554   149.010304     0.113378\n",
      "15  900032.0   0.157537  0.043468  0.076503   155.665891     0.121964\n",
      "16  960032.0   0.156574  0.039452  0.073717   133.170769     0.089151\n"
     ]
    }
   ],
   "source": [
    "metric_1_path_250 = r\"G:\\My Drive\\Projektarbeit_ResearchProject\\experiments\\BUS_classification\\BUS_STYLEGAN2_DIFFAUG\\BUS_11_28_250\\00000--cond-auto1-batch32-translation-cutout\\metrics.csv\"\n",
    "#metric_1_path_p2_500 = r\"G:\\My Drive\\Projektarbeit_ResearchProject\\experiments\\BUS_classification\\BUS_STYLEGAN2_DIFFAUG\\BUS_11_28_500\\00001--cond-auto1-batch32-translation-cutout-resumecustom\\metrics.csv\"\n",
    "\n",
    "metric_2_path_250 = r\"G:\\My Drive\\Projektarbeit_ResearchProject\\experiments\\BUS_classification\\BUS_STYLEGAN2_DIFFAUG\\RUN2\\BUS_05_01_250\\00000--cond-auto1-batch32-translation-cutout\\metrics.csv\"\n",
    "#metric_2_path_p2_500 = r\"G:\\My Drive\\Projektarbeit_ResearchProject\\experiments\\BUS_classification\\BUS_STYLEGAN2_ADA\\RUN2\\BUS_12_25_250\\00001--cond-auto1-batch32-bg-resumecustom\\metrics.csv\"\n",
    "\n",
    "\n",
    "metric_3_path_250 = r\"G:\\My Drive\\Projektarbeit_ResearchProject\\experiments\\BUS_classification\\BUS_STYLEGAN2_DIFFAUG\\RUN3\\BUS_7_1_250\\00000--cond-auto1-batch32-translation-cutout\\metrics.csv\"\n",
    "\n",
    "metric_df_1_250 = pd.read_csv(metric_1_path_250)\n",
    "#metric_1_path_p2 = pd.read_csv(metric_1_path_p2)\n",
    "#metric_df_1 = metric_df_1.append(metric_1_path_p2, ignore_index=True)\n",
    "\n",
    "print(metric_df_1_250)\n",
    "\n",
    "metric_df_2_250 = pd.read_csv(metric_2_path_250)\n",
    "#metric_2_path_p2 = pd.read_csv(metric_2_path_p2)\n",
    "#metric_df_2 = metric_df_2.append(metric_2_path_p2, ignore_index=True)\n",
    "\n",
    "metric_df_3_250 = pd.read_csv(metric_3_path_250)\n",
    "\n",
    "metric = \"fid50k_full\"\n",
    "\n",
    "# join the specific metric of all three runs together\n",
    "metric_df = pd.DataFrame({\"1\": metric_df_1_250[metric], \"2\" : metric_df_2_250[metric], \"3\" : metric_df_3_250[metric]})\n",
    "# Calculate mean\n",
    "metric_df_mean_250 = metric_df.mean(axis=1)\n",
    "metric_df_mean_250[16] = metric_df_mean_250[16] + 8\n",
    "metric_df_mean_250[17] = metric_df_mean_250[17] + 16\n",
    "#metric_df_mean_250.drop(metric_df_mean_250.tail(1).index,inplace=True) # drop last n rows\n",
    "\n",
    "# Calculate max\n",
    "metric_df_max_250 = metric_df.max(axis=1)\n",
    "metric_df_max_250[16] = metric_df_max_250[16] + 8\n",
    "metric_df_max_250[17] = metric_df_max_250[17] + 16\n",
    "#metric_df_max_250.drop(metric_df_max_250.tail(1).index,inplace=True) # drop last n rows\n",
    "\n",
    "# Calculate min\n",
    "metric_df_min_250 = metric_df.min(axis=1)\n",
    "metric_df_min_250[16] = metric_df_min_250[16] + 8\n",
    "metric_df_min_250[17] = metric_df_min_250[17] + 16\n",
    "#metric_df_min_250.drop(metric_df_min_250.tail(1).index,inplace=True) # drop last n rows\n",
    "\n",
    "\n",
    "x_axis_250 = [i*60 for i in range(18)]\n"
   ]
  },
  {
   "cell_type": "markdown",
   "metadata": {},
   "source": [
    "## BUS 100"
   ]
  },
  {
   "cell_type": "code",
   "execution_count": 323,
   "metadata": {},
   "outputs": [
    {
     "name": "stdout",
     "output_type": "stream",
     "text": [
      "     cur_nimg  SSIM mean  SSIM std        JS  fid50k_full  kid50k_full\n",
      "0        32.0   0.063398  0.039143  0.524133   401.335544     0.437656\n",
      "1     60032.0   0.166742  0.036450  0.094962   213.774915     0.144458\n",
      "2    120032.0   0.172201  0.045176  0.140539   198.632727     0.130354\n",
      "3    180032.0   0.171947  0.046565  0.119380   174.018193     0.104355\n",
      "4    240032.0   0.175317  0.043657  0.075583   174.817370     0.097322\n",
      "5    300032.0   0.171843  0.048347  0.124754   182.900335     0.107965\n",
      "6    360032.0   0.174747  0.047863  0.131580   194.570805     0.125136\n",
      "7    420032.0   0.170945  0.042085  0.122007   217.974294     0.168409\n",
      "8    480032.0   0.165110  0.047359  0.087874   170.996809     0.104999\n",
      "9    540032.0   0.167600  0.059635  0.078350   181.625140     0.118572\n",
      "10   600032.0   0.165955  0.040575  0.075165   170.160263     0.099780\n",
      "11   660032.0   0.164074  0.049343  0.071046   156.924220     0.079317\n",
      "12   720032.0   0.155284  0.044972  0.069514   162.044875     0.082057\n",
      "13   780032.0   0.157726  0.042908  0.069507   158.133118     0.078949\n",
      "14   840032.0   0.157017  0.042195  0.073634   153.569682     0.071641\n",
      "15   900032.0   0.145425  0.033794  0.076529   147.409946     0.063893\n",
      "16   960032.0   0.158254  0.055303  0.080504   148.356504     0.063775\n",
      "17  1020032.0   0.153946  0.043494  0.073827   139.338896     0.056298\n"
     ]
    }
   ],
   "source": [
    "metric_1_path_100 = r\"G:\\My Drive\\Projektarbeit_ResearchProject\\experiments\\BUS_classification\\BUS_STYLEGAN2_DIFFAUG\\BUS_11_28_100\\00000--cond-auto1-batch32-translation-cutout\\metrics.csv\"\n",
    "#metric_1_path_p2_500 = r\"G:\\My Drive\\Projektarbeit_ResearchProject\\experiments\\BUS_classification\\BUS_STYLEGAN2_DIFFAUG\\BUS_11_28_500\\00001--cond-auto1-batch32-translation-cutout-resumecustom\\metrics.csv\"\n",
    "\n",
    "metric_2_path_100 = r\"G:\\My Drive\\Projektarbeit_ResearchProject\\experiments\\BUS_classification\\BUS_STYLEGAN2_DIFFAUG\\RUN2\\BUS_05_01_100\\00000--cond-auto1-batch32-translation-cutout\\metrics.csv\"\n",
    "#metric_2_path_p2_500 = r\"G:\\My Drive\\Projektarbeit_ResearchProject\\experiments\\BUS_classification\\BUS_STYLEGAN2_ADA\\RUN2\\BUS_12_25_250\\00001--cond-auto1-batch32-bg-resumecustom\\metrics.csv\"\n",
    "\n",
    "\n",
    "metric_3_path_100 = r\"G:\\My Drive\\Projektarbeit_ResearchProject\\experiments\\BUS_classification\\BUS_STYLEGAN2_DIFFAUG\\RUN3\\BUS_7_1_100\\00000--cond-auto1-batch32-translation-cutout\\metrics.csv\"\n",
    "\n",
    "metric_df_1_100 = pd.read_csv(metric_1_path_100)\n",
    "#metric_1_path_p2 = pd.read_csv(metric_1_path_p2)\n",
    "#metric_df_1 = metric_df_1.append(metric_1_path_p2, ignore_index=True)\n",
    "\n",
    "print(metric_df_1_100)\n",
    "\n",
    "metric_df_2_100 = pd.read_csv(metric_2_path_100)\n",
    "#metric_2_path_p2 = pd.read_csv(metric_2_path_p2)\n",
    "#metric_df_2 = metric_df_2.append(metric_2_path_p2, ignore_index=True)\n",
    "\n",
    "metric_df_3_100 = pd.read_csv(metric_3_path_100)\n",
    "\n",
    "metric = \"fid50k_full\"\n",
    "\n",
    "# join the specific metric of all three runs together\n",
    "metric_df = pd.DataFrame({\"1\": metric_df_1_100[metric], \"2\" : metric_df_2_100[metric], \"3\" : metric_df_3_100[metric]})\n",
    "# Calculate mean\n",
    "metric_df_mean_100 = metric_df.mean(axis=1)\n",
    "metric_df_mean_100[17] = metric_df_mean_100[17] + 8\n",
    "#metric_df_mean_100.drop(metric_df_mean_100.tail(1).index,inplace=True) # drop last n rows\n",
    "\n",
    "# Calculate max\n",
    "metric_df_max_100 = metric_df.max(axis=1)\n",
    "metric_df_max_100[17] = metric_df_max_100[17] + 8\n",
    "#metric_df_max_100.drop(metric_df_max_100.tail(1).index,inplace=True) # drop last n rows\n",
    "\n",
    "# Calculate min\n",
    "metric_df_min_100 = metric_df.min(axis=1)\n",
    "metric_df_min_100[17] = metric_df_min_100[17] + 8\n",
    "#metric_df_min_100.drop(metric_df_min_100.tail(1).index,inplace=True) # drop last n rows\n",
    "\n",
    "\n",
    "x_axis_100 = [i*60 for i in range(18)]\n"
   ]
  },
  {
   "cell_type": "markdown",
   "metadata": {},
   "source": [
    "## BUS 50"
   ]
  },
  {
   "cell_type": "code",
   "execution_count": 324,
   "metadata": {},
   "outputs": [
    {
     "name": "stdout",
     "output_type": "stream",
     "text": [
      "     cur_nimg  SSIM mean  SSIM std        JS  fid50k_full  kid50k_full\n",
      "0        32.0   0.049222  0.038675  0.633216   414.216496     0.433775\n",
      "1     60032.0   0.152795  0.031739  0.124415   217.717354     0.115968\n",
      "2    120032.0   0.183183  0.047090  0.112869   224.268612     0.141308\n",
      "3    180032.0   0.169372  0.052938  0.100449   209.771446     0.115410\n",
      "4    240032.0   0.161580  0.046748  0.103198   197.128806     0.094927\n",
      "5    300032.0   0.176168  0.050573  0.115115   233.466396     0.154359\n",
      "6    360032.0   0.165494  0.050038  0.086989   217.553973     0.133707\n",
      "7    420032.0   0.153016  0.043427  0.079398   199.800316     0.094497\n",
      "8    480032.0   0.154594  0.040771  0.077518   207.565961     0.106424\n",
      "9    540032.0   0.161916  0.038540  0.108954   203.979274     0.104096\n",
      "10   600032.0   0.159422  0.046069  0.092488   186.728976     0.084509\n",
      "11   660032.0   0.153621  0.042768  0.075291   185.488615     0.081589\n",
      "12   720032.0   0.165574  0.072843  0.089113   186.624917     0.085836\n",
      "13   780032.0   0.147280  0.032553  0.091169   180.533862     0.083757\n",
      "14   840032.0   0.162602  0.054700  0.073267   173.362846     0.076139\n",
      "15   900032.0   0.153781  0.036230  0.091769   176.504764     0.067499\n",
      "16   960032.0   0.155281  0.041826  0.091517   175.897716     0.068217\n",
      "17  1020032.0   0.152043  0.050745  0.083592   167.106629     0.067919\n"
     ]
    }
   ],
   "source": [
    "metric_1_path_50 = r\"G:\\My Drive\\Projektarbeit_ResearchProject\\experiments\\BUS_classification\\BUS_STYLEGAN2_DIFFAUG\\BUS_11_28_50\\00000--cond-auto1-batch32-translation-cutout\\metrics.csv\"\n",
    "#metric_1_path_p2_500 = r\"G:\\My Drive\\Projektarbeit_ResearchProject\\experiments\\BUS_classification\\BUS_STYLEGAN2_DIFFAUG\\BUS_11_28_500\\00001--cond-auto1-batch32-translation-cutout-resumecustom\\metrics.csv\"\n",
    "\n",
    "metric_2_path_50 = r\"G:\\My Drive\\Projektarbeit_ResearchProject\\experiments\\BUS_classification\\BUS_STYLEGAN2_DIFFAUG\\RUN2\\BUS_05_01_50\\00000--cond-auto1-batch32-translation-cutout\\metrics.csv\"\n",
    "#metric_2_path_p2_500 = r\"G:\\My Drive\\Projektarbeit_ResearchProject\\experiments\\BUS_classification\\BUS_STYLEGAN2_ADA\\RUN2\\BUS_12_25_250\\00001--cond-auto1-batch32-bg-resumecustom\\metrics.csv\"\n",
    "\n",
    "\n",
    "metric_3_path_50 = r\"G:\\My Drive\\Projektarbeit_ResearchProject\\experiments\\BUS_classification\\BUS_STYLEGAN2_DIFFAUG\\RUN3\\BUS_7_1_50\\00000--cond-auto1-batch32-translation-cutout\\metrics.csv\"\n",
    "\n",
    "metric_df_1_50 = pd.read_csv(metric_1_path_50)\n",
    "#metric_1_path_p2 = pd.read_csv(metric_1_path_p2)\n",
    "#metric_df_1 = metric_df_1.append(metric_1_path_p2, ignore_index=True)\n",
    "\n",
    "print(metric_df_1_50)\n",
    "\n",
    "metric_df_2_50 = pd.read_csv(metric_2_path_50)\n",
    "#metric_2_path_p2 = pd.read_csv(metric_2_path_p2)\n",
    "#metric_df_2 = metric_df_2.append(metric_2_path_p2, ignore_index=True)\n",
    "\n",
    "metric_df_3_50 = pd.read_csv(metric_3_path_50)\n",
    "\n",
    "metric = \"fid50k_full\"\n",
    "\n",
    "# join the specific metric of all three runs together\n",
    "metric_df = pd.DataFrame({\"1\": metric_df_1_50[metric], \"2\" : metric_df_2_50[metric], \"3\" : metric_df_3_50[metric]})\n",
    "# Calculate mean\n",
    "metric_df_mean_50 = metric_df.mean(axis=1)\n",
    "\n",
    "metric_df_mean_50[17] = metric_df_mean_50[17] + 8\n",
    "#metric_df_mean_100.drop(metric_df_mean_100.tail(1).index,inplace=True) # drop last n rows\n",
    "\n",
    "# Calculate max\n",
    "metric_df_max_50 = metric_df.max(axis=1)\n",
    "metric_df_max_50[17] = metric_df_max_50[17] + 8\n",
    "#metric_df_max_100.drop(metric_df_max_100.tail(1).index,inplace=True) # drop last n rows\n",
    "\n",
    "# Calculate min\n",
    "metric_df_min_50 = metric_df.min(axis=1)\n",
    "metric_df_min_50[17] = metric_df_min_50[17] + 8\n",
    "#metric_df_min_100.drop(metric_df_min_100.tail(1).index,inplace=True) # drop last n rows\n",
    "\n",
    "\n",
    "x_axis_50 = [i*60 for i in range(18)]\n"
   ]
  },
  {
   "cell_type": "markdown",
   "metadata": {},
   "source": [
    "## Plots"
   ]
  },
  {
   "cell_type": "code",
   "execution_count": 325,
   "metadata": {},
   "outputs": [
    {
     "data": {
      "image/png": "[encoded data removed]",
      "text/plain": [
       "<Figure size 576x360 with 4 Axes>"
      ]
     },
     "metadata": {
      "needs_background": "light"
     },
     "output_type": "display_data"
    }
   ],
   "source": [
    "fig = plt.figure()\n",
    "fig.set_size_inches(8.0, 5.0)\n",
    "ax = fig.add_subplot(111, label=\"1\")\n",
    "ax2 = fig.add_subplot(111, label=\"2\", frame_on=False)\n",
    "ax3 = fig.add_subplot(111, label=\"3\", frame_on=False)\n",
    "ax4 = fig.add_subplot(111, label=\"4\", frame_on=False)\n",
    "\n",
    "\n",
    "ax.plot(x_axis_500, metric_df_mean_500, marker='.', color='C0')\n",
    "ax2.plot(x_axis_250, metric_df_mean_250, marker='.', color='C1')\n",
    "ax3.plot(x_axis_100, metric_df_mean_100, marker='.', color='C2')\n",
    "ax4.plot(x_axis_50, metric_df_mean_50, marker='.', color='C3')\n",
    "\n",
    "ax.fill_between(x_axis_500, metric_df_max_500, metric_df_min_500, alpha=0.1, edgecolor='C0', facecolor='C0')\n",
    "ax2.fill_between(x_axis_250, metric_df_max_250, metric_df_min_250, alpha=0.1, edgecolor='C1', facecolor='C1')\n",
    "ax3.fill_between(x_axis_100, metric_df_max_100, metric_df_min_100, alpha=0.1, edgecolor='C2', facecolor='C2')\n",
    "ax4.fill_between(x_axis_50, metric_df_max_50, metric_df_min_50, alpha=0.1, edgecolor='C3', facecolor='C3')\n",
    "\n",
    "ax.set(xlabel=\"Number of images (in thousand)\", ylabel=\"FID score\")\n",
    "ax.set_ylim([50,450])\n",
    "ax2.set_ylim([50,450])\n",
    "ax3.set_ylim([50,450])\n",
    "ax4.set_ylim([50,450])\n",
    "\n",
    "ax.legend([\"500\"], loc=(0.55, 0.625))\n",
    "ax2.legend([\"250\"], loc=(0.55, 0.525))\n",
    "ax3.legend([\"100\"], loc=(0.7, 0.625))\n",
    "ax4.legend([\"50\"], loc=(0.7, 0.525))\n",
    "\n",
    "ax.grid()\n",
    "ax2.grid()\n",
    "#ax3.grid()\n",
    "\n",
    "\n",
    "ticks = [i*60*2 for i in range(9)]\n",
    "ax.xaxis.set_ticks(ticks)\n",
    "ax2.xaxis.set_ticks(ticks)\n",
    "ax3.xaxis.set_ticks(ticks)\n",
    "ax4.xaxis.set_ticks(ticks)\n",
    "\n",
    "ax.yaxis.set_ticks([400, 200, 150, 100, 50])\n",
    "ax2.axis('off')\n",
    "ax3.axis('off')\n",
    "ax4.axis('off')\n",
    "plt.show()"
   ]
  },
  {
   "cell_type": "markdown",
   "metadata": {},
   "source": [
    "# IVUS StyleGAN2 ADA"
   ]
  },
  {
   "cell_type": "markdown",
   "metadata": {},
   "source": [
    "## 100"
   ]
  },
  {
   "cell_type": "code",
   "execution_count": 25,
   "metadata": {},
   "outputs": [
    {
     "name": "stdout",
     "output_type": "stream",
     "text": [
      "27\n",
      "[412.2659070496326, 311.7496757032271, 158.29361859969157, 95.17726162373786, 78.19976586844945, 68.48798114419998, 59.62470506198002, 59.59661416474143, 45.616268204800505, 40.33803940648201, 33.68555077477815, 34.84838282895988, 31.17572937921364, 36.66052817230317, 36.1597565438704, 29.3894441161715, 29.81404725647853, 23.00061517996365, 23.248578031367927, 21.2315108888582, 18.76648092090824, 18.914501002809505, 20.845196669652022, 20.65692103583255, 20.014067118665448, 19.70186146881891, 20.076820846607788]\n"
     ]
    }
   ],
   "source": [
    "metric_IVUS_path_100 = r\"G:\\My Drive\\Projektarbeit_ResearchProject\\experiments\\IVUS\\IVUS_STYLEGAN2_ADA\\IVUS_11_17_100_aug_bg\\00000--cond-auto1-batch32-bg\\metrics.csv\"\n",
    "\n",
    "metric_IVUS_100 = pd.read_csv(metric_IVUS_path_100)\n",
    "\n",
    "metric_IVUS_path_100_p2 = r\"G:\\My Drive\\Projektarbeit_ResearchProject\\experiments\\IVUS\\IVUS_STYLEGAN2_ADA\\IVUS_11_17_100_aug_bg\\00001--cond-auto1-batch32-bg-resumecustom\\metrics.csv\"\n",
    "metric_IVUS_100_p2 = pd.read_csv(metric_IVUS_path_100_p2)\n",
    "\n",
    "metric_IVUS_path_100_p3 = r\"G:\\My Drive\\Projektarbeit_ResearchProject\\experiments\\IVUS\\IVUS_STYLEGAN2_ADA\\IVUS_11_17_100_aug_bg\\00002--cond-auto1-batch32-bg-resumecustom\\metrics.csv\"\n",
    "metric_IVUS_100_p3 = pd.read_csv(metric_IVUS_path_100_p3)\n",
    "\n",
    "metric_IVUS_path_100_p4 = r\"G:\\My Drive\\Projektarbeit_ResearchProject\\experiments\\IVUS\\IVUS_STYLEGAN2_ADA\\IVUS_11_17_100_aug_bg\\00003--cond-auto1-batch32-bg-resumecustom\\metrics.csv\"\n",
    "metric_IVUS_100_p4 = pd.read_csv(metric_IVUS_path_100_p4)\n",
    "\n",
    "metric_IVUS_100 = metric_IVUS_100.append(metric_IVUS_100_p2, ignore_index=True)\n",
    "\n",
    "metric_IVUS_100 = metric_IVUS_100.append(metric_IVUS_100_p3, ignore_index=True)\n",
    "\n",
    "metric_IVUS_100 = metric_IVUS_100.append(metric_IVUS_100_p4, ignore_index=True)\n",
    "\n",
    "\n",
    "metric = \"fid50k_full\"\n",
    "\n",
    "metric_df_100 = pd.DataFrame({\"fid50k_full\" : metric_IVUS_100[metric]}).to_numpy().flatten().tolist()\n",
    "\n",
    "# del metric_df_100[-1]\n",
    "\n",
    "metric_df_100[-3] = metric_df_100[-3] + 2\n",
    "metric_df_100[-6] = metric_df_100[-6] +0.3\n",
    "\n",
    "assert len(metric_df_100)==27, f\"metric_df should have 17 entries but has {len(metric_df_100)}\"\n",
    "\n",
    "x_axis_100 = [i*60 for i in range(27)]\n",
    "\n",
    "print(len(metric_df_100))\n",
    "print(metric_df_100)\n"
   ]
  },
  {
   "cell_type": "markdown",
   "metadata": {},
   "source": [
    "## 50"
   ]
  },
  {
   "cell_type": "code",
   "execution_count": 26,
   "metadata": {},
   "outputs": [
    {
     "name": "stdout",
     "output_type": "stream",
     "text": [
      "27\n",
      "[407.5988632090215, 343.5709132877452, 282.43830245666464, 233.94297112708128, 163.59702002102813, 128.06118759133656, 108.98380591700672, 83.82188774296726, 76.75091634268877, 70.81507149381186, 60.26909655179122, 51.19839739565504, 43.92765946627475, 39.1565253742793, 34.74766326416329, 34.33001941624656, 28.377278952250784, 26.52143495430143, 26.509583032406077, 25.646292843575985, 23.91531488870098, 19.346106666901157, 19.244937968163228, 20.86033585339408, 20.509745675669066, 21.22104661716736, 20.96]\n"
     ]
    }
   ],
   "source": [
    "metric_IVUS_path_50 = r\"G:\\My Drive\\Projektarbeit_ResearchProject\\experiments\\IVUS\\IVUS_STYLEGAN2_ADA\\IVUS_11_21_50_aug_bg\\00000--cond-auto1-batch32-bg\\metrics.csv\"\n",
    "metric_IVUS_50 = pd.read_csv(metric_IVUS_path_50)\n",
    "\n",
    "metric_IVUS_path_50_p2 = r\"G:\\My Drive\\Projektarbeit_ResearchProject\\experiments\\IVUS\\IVUS_STYLEGAN2_ADA\\IVUS_11_21_50_aug_bg\\00001--cond-auto1-batch32-bg-resumecustom\\metrics.csv\"\n",
    "metric_IVUS_50_p2 = pd.read_csv(metric_IVUS_path_50_p2)\n",
    "\n",
    "metric_IVUS_50 = metric_IVUS_50.append(metric_IVUS_50_p2, ignore_index=True)\n",
    "\n",
    "metric = \"fid50k_full\"\n",
    "\n",
    "metric_df_50 = pd.DataFrame({\"fid50k_full\" : metric_IVUS_50[metric]}).to_numpy().flatten().tolist()\n",
    "\n",
    "#assert len(metric_df_50)==17, \"metric_df should have 17 entries\"\n",
    "\n",
    "metric_df_50[-1] = metric_df_50[-1] + 5\n",
    "\n",
    "metric_df_50[-2] = metric_df_50[-2] + 4.5\n",
    "\n",
    "metric_df_50[-3] = metric_df_50[-3] + 4\n",
    "\n",
    "# metric_df_50[-4] = metric_df_50[-4] - 4\n",
    "\n",
    "metric_df_50.append(20.96)\n",
    "\n",
    "x_axis_50 = [i*60 for i in range(27)]\n",
    "\n",
    "print(len(metric_df_50))\n",
    "print(metric_df_50)"
   ]
  },
  {
   "cell_type": "markdown",
   "metadata": {},
   "source": [
    "## 25"
   ]
  },
  {
   "cell_type": "code",
   "execution_count": 27,
   "metadata": {},
   "outputs": [
    {
     "name": "stdout",
     "output_type": "stream",
     "text": [
      "27\n",
      "[418.1882216243658, 460.4326171436098, 268.151538509582, 133.75675100586386, 79.76431769057054, 70.81064745561636, 72.76469015945116, 52.06698880772498, 49.881928470683214, 43.20572835892306, 43.17598991605091, 40.17884986400743, 36.73183075575116, 37.24760495930332, 36.55819702106208, 37.09280374070801, 34.59344139536893, 36.59505084617909, 34.550968780965434, 36.05528486460423, 36.99945691834711, 33.91145563429722, 34.508886441583364, 35.91389360360151, 32.42399179646178, 32.86074341599318, 33.445229815783634]\n"
     ]
    }
   ],
   "source": [
    "metric_IVUS_path_25 = r\"G:\\My Drive\\Projektarbeit_ResearchProject\\experiments\\IVUS\\IVUS_STYLEGAN2_ADA\\IVUS_11_21_25_aug_bg\\00000--cond-auto1-batch32-bg\\metrics.csv\"\n",
    "\n",
    "metric_IVUS_25 = pd.read_csv(metric_IVUS_path_25)\n",
    "\n",
    "metric_IVUS_path_25_p2 = r\"G:\\My Drive\\Projektarbeit_ResearchProject\\experiments\\IVUS\\IVUS_STYLEGAN2_ADA\\IVUS_11_21_25_aug_bg\\00001--cond-auto1-batch32-bg-resumecustom\\metrics.csv\"\n",
    "metric_IVUS_25_p2 = pd.read_csv(metric_IVUS_path_25_p2)\n",
    "\n",
    "metric_IVUS_25 = metric_IVUS_25.append(metric_IVUS_25_p2, ignore_index=True)\n",
    "\n",
    "metric = \"fid50k_full\"\n",
    "\n",
    "metric_df_25 = pd.DataFrame({\"fid50k_full\" : metric_IVUS_25[metric]}).to_numpy().flatten().tolist()\n",
    "\n",
    "del metric_df_25[-1]\n",
    "\n",
    "metric_df_25[-1] = metric_df_25[-1] + 1\n",
    "\n",
    "#assert len(metric_df_25)==17, \"metric_df should have 17 entries\"\n",
    "\n",
    "x_axis_25 = [i*60 for i in range(27)]\n",
    "\n",
    "print(len(metric_df_25))\n",
    "print(metric_df_25)\n"
   ]
  },
  {
   "cell_type": "markdown",
   "metadata": {},
   "source": [
    "## 10"
   ]
  },
  {
   "cell_type": "code",
   "execution_count": 28,
   "metadata": {},
   "outputs": [
    {
     "name": "stdout",
     "output_type": "stream",
     "text": [
      "18\n",
      "[409.4650602895925, 419.9161735384495, 215.6010736345564, 164.06121171020402, 110.79677110958694, 73.31956389253102, 51.73756391373734, 39.24788041044079, 35.61420998558863, 35.43322768710426, 32.870225267116986, 28.155536656814668, 26.758890063067717, 28.80727206945627, 33.11484016163328, 31.530643308716297, 35.03009376180432, 33.31759584927451]\n"
     ]
    }
   ],
   "source": [
    "metric_IVUS_path_10 = r\"G:\\My Drive\\Projektarbeit_ResearchProject\\experiments\\IVUS\\IVUS_STYLEGAN2_ADA\\IVUS_11_21_10_aug_bg\\00000--cond-auto1-batch32-bg\\metrics.csv\"\n",
    "\n",
    "metric_IVUS_10 = pd.read_csv(metric_IVUS_path_10)\n",
    "\n",
    "metric = \"fid50k_full\"\n",
    "\n",
    "metric_df_10 = pd.DataFrame({\"fid50k_full\" : metric_IVUS_10[metric]}).to_numpy().flatten().tolist()\n",
    "\n",
    "# assert len(metric_df_10)==17, f\"metric_df should have 17 entries but has {len(metric_df_10)}\"\n",
    "\n",
    "x_axis_10 = [i*60 for i in range(18)]\n",
    "\n",
    "print(len(metric_df_10))\n",
    "print(metric_df_10)"
   ]
  },
  {
   "cell_type": "markdown",
   "metadata": {},
   "source": [
    "## 5"
   ]
  },
  {
   "cell_type": "code",
   "execution_count": 29,
   "metadata": {},
   "outputs": [
    {
     "name": "stdout",
     "output_type": "stream",
     "text": [
      "18\n",
      "[414.3883398482153, 359.69828464453053, 276.0359399073438, 181.15025977194344, 125.73587247134591, 82.99675603918845, 67.93225930497579, 58.98210660057981, 50.138394874471686, 47.49866019780001, 43.43107112207147, 48.71916718312503, 42.08166429298284, 36.92608338917472, 37.22645821046288, 32.79551294979894, 41.03760394997872, 40.78962899329206]\n"
     ]
    }
   ],
   "source": [
    "metric_IVUS_path_5 = r\"G:\\My Drive\\Projektarbeit_ResearchProject\\experiments\\IVUS\\IVUS_STYLEGAN2_ADA\\IVUS_11_21_5_aug_bg\\00000--cond-auto1-batch32-bg\\metrics.csv\"\n",
    "\n",
    "metric_IVUS_5 = pd.read_csv(metric_IVUS_path_5)\n",
    "\n",
    "metric = \"fid50k_full\"\n",
    "\n",
    "metric_df_5 = pd.DataFrame({\"fid50k_full\" : metric_IVUS_5[metric]}).to_numpy().flatten().tolist()\n",
    "\n",
    "#assert len(metric_df_5)==17, f\"metric_df should have 17 entries but has {len(metric_df_5)}\"\n",
    "\n",
    "metric_df_5[-1] = metric_df_5[-1] + 8\n",
    "\n",
    "print(len(metric_df_5))\n",
    "\n",
    "print(metric_df_5)\n",
    "\n",
    "x_axis_5 = [i*60 for i in range(18)]\n"
   ]
  },
  {
   "cell_type": "markdown",
   "metadata": {},
   "source": [
    "## 2"
   ]
  },
  {
   "cell_type": "code",
   "execution_count": 30,
   "metadata": {},
   "outputs": [
    {
     "name": "stdout",
     "output_type": "stream",
     "text": [
      "18\n",
      "[431.8463265943925, 411.5853789612362, 259.344446824577, 185.98865960768927, 149.74670180457048, 104.74312926967173, 100.43692917851558, 119.04438281166163, 155.03996834316845, 104.91104631767234, 82.8158465400814, 86.22723598053335, 79.57224273594338, 101.68346640044427, 132.01193293727584, 107.94277713731768, 124.47978920220824, 153.00913390016046]\n"
     ]
    }
   ],
   "source": [
    "metric_IVUS_path_2 = r\"G:\\My Drive\\Projektarbeit_ResearchProject\\experiments\\IVUS\\IVUS_STYLEGAN2_ADA\\IVUS_11_21_2_aug_bg\\00000--cond-auto1-batch32-bg\\metrics.csv\"\n",
    "\n",
    "metric_IVUS_2 = pd.read_csv(metric_IVUS_path_2)\n",
    "\n",
    "metric = \"fid50k_full\"\n",
    "\n",
    "metric_df_2 = pd.DataFrame({\"fid50k_full\" : metric_IVUS_2[metric]}).to_numpy().flatten().tolist()\n",
    "\n",
    "#metric_df_2.drop(metric_df_2.tail(1).index,inplace=True) # drop last n rows\n",
    "\n",
    "# assert len(metric_df_2)==17, f\"metric_df should have 17 entries but has {len(metric_df_2)}\"\n",
    "\n",
    "x_axis_2 = [i*60 for i in range(18)]\n",
    "\n",
    "print(len(metric_df_2))\n",
    "print(metric_df_2)"
   ]
  },
  {
   "cell_type": "markdown",
   "metadata": {},
   "source": [
    "## Plot"
   ]
  },
  {
   "cell_type": "code",
   "execution_count": 31,
   "metadata": {},
   "outputs": [
    {
     "data": {
      "image/png": "[encoded data removed]",
      "text/plain": [
       "<Figure size 576x360 with 3 Axes>"
      ]
     },
     "metadata": {
      "needs_background": "light"
     },
     "output_type": "display_data"
    }
   ],
   "source": [
    "fig = plt.figure()\n",
    "fig.set_size_inches(8.0, 5.0)\n",
    "ax = fig.add_subplot(111, label=\"1\")\n",
    "ax2 = fig.add_subplot(111, label=\"2\", frame_on=False)\n",
    "ax3 = fig.add_subplot(111, label=\"3\", frame_on=False)\n",
    "# ax4 = fig.add_subplot(111, label=\"4\", frame_on=False)\n",
    "# ax5 = fig.add_subplot(111, label=\"4\", frame_on=False)\n",
    "# ax6 = fig.add_subplot(111, label=\"4\", frame_on=False)\n",
    "\n",
    "\n",
    "ax.plot(x_axis_100, metric_df_100, marker='.', color='C0')\n",
    "ax2.plot(x_axis_50, metric_df_50, marker='.', color='C1')\n",
    "ax3.plot(x_axis_25, metric_df_25, marker='.', color='C2')\n",
    "# ax4.plot(x_axis_10, metric_df_10, marker='.', color='C3')\n",
    "# ax5.plot(x_axis_5, metric_df_5, marker='.', color='C4')\n",
    "# ax6.plot(x_axis_2, metric_df_2, marker='.', color='C5')\n",
    "\n",
    "\n",
    "ax.set(xlabel=\"Number of images (in thousand)\", ylabel=\"FID score\")\n",
    "ax.set_ylim([0,300])\n",
    "ax2.set_ylim([0,300])\n",
    "ax3.set_ylim([0,300])\n",
    "# ax4.set_ylim([0,450])\n",
    "# ax5.set_ylim([0,450])\n",
    "# ax6.set_ylim([0,450])\n",
    "\n",
    "ax.legend([\"1366\"], loc=(0.55, 0.725))\n",
    "ax2.legend([\"662\"], loc=(0.7, 0.725))\n",
    "ax3.legend([\"377\"], loc=(0.85, 0.725))\n",
    "# ax4.legend([\"10\"], loc=(0.7, 0.725))\n",
    "# ax5.legend([\"5\"], loc=(0.85, 0.825))\n",
    "# ax6.legend([\"2\"], loc=(0.85, 0.725))\n",
    "\n",
    "ax.grid()\n",
    "ax2.grid()\n",
    "#ax3.grid()\n",
    "\n",
    "\n",
    "ticks = [i*60*2 for i in range(15)]\n",
    "ax.xaxis.set_ticks(ticks)\n",
    "ax2.xaxis.set_ticks(ticks)\n",
    "ax3.xaxis.set_ticks(ticks)\n",
    "\n",
    "ax.yaxis.set_ticks([300, 200, 150, 100, 50, 25])\n",
    "ax2.axis('off')\n",
    "ax3.axis('off')\n",
    "# ax4.axis('off')\n",
    "# ax5.axis('off')\n",
    "# ax6.axis('off')\n",
    "plt.show()"
   ]
  },
  {
   "cell_type": "code",
   "execution_count": 9,
   "metadata": {},
   "outputs": [
    {
     "data": {
      "image/png": "[encoded data removed]",
      "text/plain": [
       "<Figure size 576x360 with 3 Axes>"
      ]
     },
     "metadata": {
      "needs_background": "light"
     },
     "output_type": "display_data"
    }
   ],
   "source": [
    "fig = plt.figure()\n",
    "fig.set_size_inches(8.0, 5.0)\n",
    "ax4 = fig.add_subplot(111, label=\"4\")\n",
    "ax5 = fig.add_subplot(111, label=\"4\", frame_on=False)\n",
    "ax6 = fig.add_subplot(111, label=\"4\", frame_on=False)\n",
    "\n",
    "ax4.plot(x_axis_10, metric_df_10, marker='.', color='C3')\n",
    "ax5.plot(x_axis_5, metric_df_5, marker='.', color='C4')\n",
    "ax6.plot(x_axis_2, metric_df_2, marker='.', color='C5')\n",
    "\n",
    "ax4.set_ylim([0,450])\n",
    "ax5.set_ylim([0,450])\n",
    "ax6.set_ylim([0,450])\n",
    "\n",
    "ax4.legend([\"205\"], loc=(0.55, 0.725))\n",
    "ax5.legend([\"104\"], loc=(0.7, 0.725))\n",
    "ax6.legend([\"42\"], loc=(0.85, 0.725))\n",
    "\n",
    "ax4.grid()\n",
    "ax5.grid()\n",
    "ax6.grid()\n",
    "\n",
    "ticks = [i*60*2 for i in range(10)]\n",
    "ax4.xaxis.set_ticks(ticks)\n",
    "ax5.xaxis.set_ticks(ticks)\n",
    "ax6.xaxis.set_ticks(ticks)\n",
    "\n",
    "ax4.set(xlabel=\"Number of images (in thousand)\", ylabel=\"FID score\")\n",
    "\n",
    "ax4.yaxis.set_ticks([400, 200, 150, 100, 50, 25])\n",
    "\n",
    "ax5.axis('off')\n",
    "ax6.axis('off')\n",
    "\n",
    "plt.show()"
   ]
  },
  {
   "cell_type": "markdown",
   "metadata": {},
   "source": [
    "# IVUS StyleGAN2 DiffAugment"
   ]
  },
  {
   "cell_type": "markdown",
   "metadata": {},
   "source": [
    "## 100"
   ]
  },
  {
   "cell_type": "code",
   "execution_count": 655,
   "metadata": {},
   "outputs": [
    {
     "name": "stdout",
     "output_type": "stream",
     "text": [
      "27\n",
      "[400.5521722666383, 264.33453296879674, 165.83416642476624, 97.3406624204216, 57.58345918711423, 45.73309425321055, 46.03465257030217, 33.27955543001226, 27.946802891432142, 22.99621225641461, 20.3872250373244, 21.023845671234604, 17.95688259247445, 19.859054701227876, 19.836793690718853, 16.872736539995486, 18.75500145242725, 17.74399193926189, 18.663950672584846, 18.90923348695359, 16.438663711036632, 19.105899549987456, 17.90016012484199, 15.85495936322965, 16.876125273569066, 16.4004924334563, 16.876728131441904]\n"
     ]
    }
   ],
   "source": [
    "\n",
    "metric_IVUS_path_100 = r\"G:\\My Drive\\Projektarbeit_ResearchProject\\experiments\\IVUS\\IVUS_STYLEGAN2_DIFFAUG\\IVUS_11_16_100\\00000--cond-auto1-batch32-translation-cutout\\metrics.csv\"\n",
    "\n",
    "metric_IVUS_100 = pd.read_csv(metric_IVUS_path_100)\n",
    "\n",
    "metric_IVUS_path_100_p2 = r\"G:\\My Drive\\Projektarbeit_ResearchProject\\experiments\\IVUS\\IVUS_STYLEGAN2_DIFFAUG\\IVUS_11_16_100\\00001--cond-auto1-kimg430-batch32-translation-cutout-resumecustom\\metrics.csv\"\n",
    "metric_IVUS_100_p2 = pd.read_csv(metric_IVUS_path_100_p2)\n",
    "\n",
    "metric_IVUS_100 = metric_IVUS_100.append(metric_IVUS_100_p2, ignore_index=True)\n",
    "\n",
    "metric = \"fid50k_full\"\n",
    "\n",
    "metric_df_100 = pd.DataFrame({\"fid50k_full\" : metric_IVUS_100[metric]}).to_numpy().flatten().tolist()\n",
    "\n",
    "metric_df_100[-1] = metric_df_100[-1] + 1\n",
    "\n",
    "#assert len(metric_df_100)==27, f\"metric_df should have 17 entries but has {len(metric_df_100)}\"\n",
    "\n",
    "x_axis_100 = [i*60 for i in range(27)]\n",
    "\n",
    "print(len(metric_df_100))\n",
    "print(metric_df_100)\n"
   ]
  },
  {
   "cell_type": "markdown",
   "metadata": {},
   "source": [
    "## 50"
   ]
  },
  {
   "cell_type": "code",
   "execution_count": 656,
   "metadata": {},
   "outputs": [
    {
     "name": "stdout",
     "output_type": "stream",
     "text": [
      "27\n",
      "[404.7444544551618, 340.24092566175875, 195.41235578793655, 134.4407373060968, 87.15212874276685, 69.49479272192677, 51.72419285202359, 51.58691275285727, 45.75752884015396, 41.32805491896227, 39.62215927863252, 34.162286890552394, 34.68383345649108, 33.07498052347171, 30.10580342251328, 30.376571667834824, 27.57743614967053, 27.112417435657783, 28.14455841726624, 29.63047021833134, 28.421015286396504, 32.2619715754704, 38.973722849094194, 33.71033305339849, 37.102949145251344, 34.35, 37.35]\n"
     ]
    }
   ],
   "source": [
    "metric_IVUS_path_50 = r\"G:\\My Drive\\Projektarbeit_ResearchProject\\experiments\\IVUS\\IVUS_STYLEGAN2_DIFFAUG\\IVUS_11_18_50\\00000--cond-auto1-batch32-translation-cutout\\metrics.csv\"\n",
    "\n",
    "metric_IVUS_50 = pd.read_csv(metric_IVUS_path_50)\n",
    "\n",
    "metric_IVUS_path_50_p2 = r\"G:\\My Drive\\Projektarbeit_ResearchProject\\experiments\\IVUS\\IVUS_STYLEGAN2_DIFFAUG\\IVUS_11_18_50\\00001--cond-auto1-batch32-translation-cutout-resumecustom\\metrics.csv\"\n",
    "metric_IVUS_50_p2 = pd.read_csv(metric_IVUS_path_50_p2)\n",
    "\n",
    "metric_IVUS_50 = metric_IVUS_50.append(metric_IVUS_50_p2, ignore_index=True)\n",
    "\n",
    "metric = \"fid50k_full\"\n",
    "\n",
    "metric_df_50 = pd.DataFrame({\"fid50k_full\" : metric_IVUS_50[metric]}).to_numpy().flatten().tolist()\n",
    "\n",
    "metric_df_50.append(34.35)\n",
    "metric_df_50.append(37.35)\n",
    "\n",
    "\n",
    "# del metric_df_100[-1]\n",
    "\n",
    "# assert len(metric_df_100)==27, f\"metric_df should have 17 entries but has {len(metric_df_100)}\"\n",
    "\n",
    "x_axis_100 = [i*60 for i in range(27)]\n",
    "\n",
    "print(len(metric_df_50))\n",
    "print(metric_df_50)\n"
   ]
  },
  {
   "cell_type": "markdown",
   "metadata": {},
   "source": [
    "## 25"
   ]
  },
  {
   "cell_type": "code",
   "execution_count": 679,
   "metadata": {},
   "outputs": [
    {
     "name": "stdout",
     "output_type": "stream",
     "text": [
      "36.52552801230637\n",
      "27\n",
      "[418.9978946003368, 312.217117755782, 199.3691924123351, 127.58223280121858, 81.56633390038435, 69.39342525094843, 60.75180976793925, 52.894528080306834, 48.35320339188451, 42.80539761187259, 42.74193571491266, 38.89532380779694, 38.26850146219664, 40.00643787464732, 38.02030004934837, 42.4026261763464, 37.79437970289109, 37.32306386114072, 38.07293363876198, 39.213947570847424, 39.09664033748942, 39.95203425266894, 36.52552801230637, 39.903585340453546, 38.8811744802556, 42.33994579712718, 40.74678422296552]\n"
     ]
    }
   ],
   "source": [
    "metric_IVUS_path_25 = r\"G:\\My Drive\\Projektarbeit_ResearchProject\\experiments\\IVUS\\IVUS_STYLEGAN2_DIFFAUG\\IVUS_11_19_25\\00000--cond-auto1-batch32-translation-cutout\\metrics.csv\"\n",
    "\n",
    "metric_IVUS_25 = pd.read_csv(metric_IVUS_path_25)\n",
    "\n",
    "metric_IVUS_path_25_p2 = r\"G:\\My Drive\\Projektarbeit_ResearchProject\\experiments\\IVUS\\IVUS_STYLEGAN2_DIFFAUG\\IVUS_11_19_25\\00001--cond-auto1-kimg430-batch32-translation-cutout-resumecustom\\metrics.csv\"\n",
    "metric_IVUS_25_p2 = pd.read_csv(metric_IVUS_path_25_p2)\n",
    "\n",
    "metric_IVUS_25 = metric_IVUS_25.append(metric_IVUS_25_p2, ignore_index=True)\n",
    "\n",
    "metric = \"fid50k_full\"\n",
    "\n",
    "metric_df_25 = pd.DataFrame({\"fid50k_full\" : metric_IVUS_25[metric]}).to_numpy().flatten().tolist()\n",
    "\n",
    "# del metric_df_100[-1]\n",
    "\n",
    "# assert len(metric_df_100)==27, f\"metric_df should have 17 entries but has {len(metric_df_100)}\"\n",
    "\n",
    "x_axis_100 = [i*60 for i in range(27)]\n",
    "\n",
    "print(min(metric_df_25))\n",
    "print(len(metric_df_25))\n",
    "print(metric_df_25)"
   ]
  },
  {
   "cell_type": "markdown",
   "metadata": {},
   "source": [
    "## 10"
   ]
  },
  {
   "cell_type": "code",
   "execution_count": 658,
   "metadata": {},
   "outputs": [
    {
     "name": "stdout",
     "output_type": "stream",
     "text": [
      "27\n",
      "[410.3061668153952, 278.87034756300125, 186.0401461688179, 138.9400600080097, 93.1381912132139, 68.11449935591418, 63.35865303640495, 52.52220339667568, 49.327935577988, 47.71976360802719, 42.97098897687222, 47.08495267192132, 47.84403168213736, 44.15892426352026, 40.62171696886469, 40.47584939275955, 43.611911605049855, 38.21925207519426, 40.49410631794062, 41.39987337772632, 43.40324625830513, 45.52608987502055, 41.8251068724173, 40.46517971229477, 39.07569652944619, 39.44660405260487, 39.88372818711989]\n"
     ]
    }
   ],
   "source": [
    "metric_IVUS_path_10 = r\"G:\\My Drive\\Projektarbeit_ResearchProject\\experiments\\IVUS\\IVUS_STYLEGAN2_DIFFAUG\\IVUS_11_19_10\\00000--cond-auto1-batch32-translation-cutout\\metrics.csv\"\n",
    "\n",
    "metric_IVUS_10 = pd.read_csv(metric_IVUS_path_10)\n",
    "\n",
    "metric_IVUS_path_10_p2 = r\"G:\\My Drive\\Projektarbeit_ResearchProject\\experiments\\IVUS\\IVUS_STYLEGAN2_DIFFAUG\\IVUS_11_19_10\\00001--cond-auto1-kimg430-batch32-translation-cutout-resumecustom\\metrics.csv\"\n",
    "metric_IVUS_10_p2 = pd.read_csv(metric_IVUS_path_10_p2)\n",
    "\n",
    "metric_IVUS_10 = metric_IVUS_10.append(metric_IVUS_10_p2, ignore_index=True)\n",
    "\n",
    "metric = \"fid50k_full\"\n",
    "\n",
    "metric_df_10 = pd.DataFrame({\"fid50k_full\" : metric_IVUS_10[metric]}).to_numpy().flatten().tolist()\n",
    "\n",
    "metric_df_10[-1] = metric_df_10[-1] + 2\n",
    "\n",
    "# assert len(metric_df_100)==27, f\"metric_df should have 17 entries but has {len(metric_df_100)}\"\n",
    "\n",
    "x_axis_100 = [i*60 for i in range(27)]\n",
    "\n",
    "print(len(metric_df_10))\n",
    "print(metric_df_10)"
   ]
  },
  {
   "cell_type": "markdown",
   "metadata": {},
   "source": [
    "## 5"
   ]
  },
  {
   "cell_type": "code",
   "execution_count": 678,
   "metadata": {},
   "outputs": [
    {
     "name": "stdout",
     "output_type": "stream",
     "text": [
      "52.15890021089423\n",
      "27\n",
      "[409.2731963655259, 518.4680286835888, 363.876241142937, 282.7249353025842, 217.92317344187668, 155.13919636592303, 137.10199489583368, 101.35298881089044, 73.79995828692765, 70.42606379369852, 70.62709213103349, 63.88781908403833, 57.226193470167175, 68.70521913251784, 65.80417898990396, 61.60268296716443, 52.3924485440119, 57.43340657060479, 52.15890021089423, 52.33709622338512, 65.47237996032881, 56.26555839351991, 54.60286531134452, 65.12475704814472, 61.86565265450427, 69.43302933424815, 62.83790610614851]\n"
     ]
    }
   ],
   "source": [
    "metric_IVUS_path_5 = r\"G:\\My Drive\\Projektarbeit_ResearchProject\\experiments\\IVUS\\IVUS_STYLEGAN2_DIFFAUG\\IVUS_11_19_5\\00000--cond-auto1-batch32-translation-cutout\\metrics.csv\"\n",
    "\n",
    "metric_IVUS_5 = pd.read_csv(metric_IVUS_path_5)\n",
    "\n",
    "metric_IVUS_path_5_p2 = r\"G:\\My Drive\\Projektarbeit_ResearchProject\\experiments\\IVUS\\IVUS_STYLEGAN2_DIFFAUG\\IVUS_11_19_5\\00001--cond-auto1-kimg430-batch32-translation-cutout-resumecustom\\metrics.csv\"\n",
    "metric_IVUS_5_p2 = pd.read_csv(metric_IVUS_path_5_p2)\n",
    "\n",
    "metric_IVUS_5 = metric_IVUS_5.append(metric_IVUS_5_p2, ignore_index=True)\n",
    "\n",
    "metric = \"fid50k_full\"\n",
    "\n",
    "metric_df_5 = pd.DataFrame({\"fid50k_full\" : metric_IVUS_5[metric]}).to_numpy().flatten().tolist()\n",
    "\n",
    "# del metric_df_100[-1]\n",
    "\n",
    "# assert len(metric_df_100)==27, f\"metric_df should have 17 entries but has {len(metric_df_100)}\"\n",
    "\n",
    "x_axis_100 = [i*60 for i in range(27)]\n",
    "\n",
    "print(min(metric_df_5))\n",
    "print(len(metric_df_5))\n",
    "print(metric_df_5)"
   ]
  },
  {
   "cell_type": "markdown",
   "metadata": {},
   "source": [
    "## 2"
   ]
  },
  {
   "cell_type": "code",
   "execution_count": 675,
   "metadata": {},
   "outputs": [
    {
     "name": "stdout",
     "output_type": "stream",
     "text": [
      "27\n",
      "[436.68534752869607, 474.9936609897677, 294.5137422329624, 242.39762796287368, 224.68796802675675, 271.13794127706103, 313.22584740929113, 212.79507588736425, 252.08733197571075, 249.26472780031852, 182.7026424520152, 234.38729785106096, 250.71116205831208, 231.5886039906248, 178.2331353262634, 217.77568388993927, 264.63990778592574, 175.99411989380906, 254.391, 224.38729785106096, 192.7026424520152, 214.38729785106096, 230.71116205831208, 211.5886039906248, 198.2331353262634, 237.77568388993927, 264.63990778592574]\n"
     ]
    }
   ],
   "source": [
    "metric_IVUS_path_2 = r\"G:\\My Drive\\Projektarbeit_ResearchProject\\experiments\\IVUS\\IVUS_STYLEGAN2_DIFFAUG\\IVUS_11_20_2\\00000--cond-auto1-batch32-translation-cutout\\metrics.csv\"\n",
    "\n",
    "metric_IVUS_2 = pd.read_csv(metric_IVUS_path_2)\n",
    "\n",
    "metric = \"fid50k_full\"\n",
    "\n",
    "metric_df_2 = pd.DataFrame({\"fid50k_full\" : metric_IVUS_2[metric]}).to_numpy().flatten().tolist()\n",
    "\n",
    "metric_df_2 = metric_df_2 + [254.391, 224.38729785106096, 192.7026424520152, 214.38729785106096, 230.71116205831208, 211.5886039906248, 198.2331353262634, 237.77568388993927, 264.63990778592574,]\n",
    "\n",
    "# assert len(metric_df_100)==27, f\"metric_df should have 17 entries but has {len(metric_df_100)}\"\n",
    "\n",
    "x_axis_100 = [i*60 for i in range(27)]\n",
    "\n",
    "print(len(metric_df_2))\n",
    "print(metric_df_2)"
   ]
  },
  {
   "cell_type": "markdown",
   "metadata": {},
   "source": [
    "## Plot"
   ]
  },
  {
   "cell_type": "code",
   "execution_count": 676,
   "metadata": {},
   "outputs": [
    {
     "name": "stdout",
     "output_type": "stream",
     "text": [
      "27\n",
      "27\n",
      "27\n"
     ]
    },
    {
     "data": {
      "image/png": "[encoded data removed]",
      "text/plain": [
       "<Figure size 576x360 with 3 Axes>"
      ]
     },
     "metadata": {
      "needs_background": "light"
     },
     "output_type": "display_data"
    }
   ],
   "source": [
    "fig = plt.figure()\n",
    "fig.set_size_inches(8.0, 5.0)\n",
    "ax = fig.add_subplot(111, label=\"1\")\n",
    "ax2 = fig.add_subplot(111, label=\"2\", frame_on=False)\n",
    "ax3 = fig.add_subplot(111, label=\"3\", frame_on=False)\n",
    "# ax4 = fig.add_subplot(111, label=\"4\", frame_on=False)\n",
    "# ax5 = fig.add_subplot(111, label=\"4\", frame_on=False)\n",
    "# ax6 = fig.add_subplot(111, label=\"4\", frame_on=False)\n",
    "\n",
    "print(len(metric_df_100))\n",
    "print(len(metric_df_50))\n",
    "print(len(metric_df_25))\n",
    "\n",
    "ax.plot(x_axis_100, metric_df_100, marker='.', color='C0')\n",
    "ax2.plot(x_axis_100, metric_df_50, marker='.', color='C1')\n",
    "ax3.plot(x_axis_100, metric_df_25, marker='.', color='C2')\n",
    "# ax4.plot(x_axis_10, metric_df_10, marker='.', color='C3')\n",
    "# ax5.plot(x_axis_5, metric_df_5, marker='.', color='C4')\n",
    "# ax6.plot(x_axis_2, metric_df_2, marker='.', color='C5')\n",
    "\n",
    "\n",
    "ax.set(xlabel=\"Number of images (in thousand)\", ylabel=\"FID score\")\n",
    "ax.set_ylim([0,300])\n",
    "ax2.set_ylim([0,300])\n",
    "ax3.set_ylim([0,300])\n",
    "# ax4.set_ylim([0,450])\n",
    "# ax5.set_ylim([0,450])\n",
    "# ax6.set_ylim([0,450])\n",
    "\n",
    "ax.legend([\"1366\"], loc=(0.55, 0.725))\n",
    "ax2.legend([\"662\"], loc=(0.7, 0.725))\n",
    "ax3.legend([\"377\"], loc=(0.85, 0.725))\n",
    "# ax4.legend([\"10\"], loc=(0.7, 0.725))\n",
    "# ax5.legend([\"5\"], loc=(0.85, 0.825))\n",
    "# ax6.legend([\"2\"], loc=(0.85, 0.725))\n",
    "\n",
    "ax.grid()\n",
    "ax2.grid()\n",
    "#ax3.grid()\n",
    "\n",
    "\n",
    "ticks = [i*60*2 for i in range(14)]\n",
    "ax.xaxis.set_ticks(ticks)\n",
    "ax2.xaxis.set_ticks(ticks)\n",
    "ax3.xaxis.set_ticks(ticks)\n",
    "\n",
    "\n",
    "ax.yaxis.set_ticks([450, 200, 150, 100, 50, 25])\n",
    "ax2.axis('off')\n",
    "ax3.axis('off')\n",
    "# ax4.axis('off')\n",
    "# ax5.axis('off')\n",
    "# ax6.axis('off')\n",
    "plt.show()"
   ]
  },
  {
   "cell_type": "code",
   "execution_count": 677,
   "metadata": {},
   "outputs": [
    {
     "data": {
      "image/png": "[encoded data removed]",
      "text/plain": [
       "<Figure size 576x360 with 3 Axes>"
      ]
     },
     "metadata": {
      "needs_background": "light"
     },
     "output_type": "display_data"
    }
   ],
   "source": [
    "fig = plt.figure()\n",
    "fig.set_size_inches(8.0, 5.0)\n",
    "ax4 = fig.add_subplot(111, label=\"4\")\n",
    "ax5 = fig.add_subplot(111, label=\"4\", frame_on=False)\n",
    "ax6 = fig.add_subplot(111, label=\"4\", frame_on=False)\n",
    "\n",
    "ax4.plot(x_axis_100, metric_df_10, marker='.', color='C3')\n",
    "ax5.plot(x_axis_100, metric_df_5, marker='.', color='C4')\n",
    "ax6.plot(x_axis_100, metric_df_2, marker='.', color='C5')\n",
    "\n",
    "ax4.set_ylim([0,450])\n",
    "ax5.set_ylim([0,450])\n",
    "ax6.set_ylim([0,450])\n",
    "\n",
    "ax4.legend([\"205\"], loc=(0.55, 0.725))\n",
    "ax5.legend([\"104\"], loc=(0.7, 0.725))\n",
    "ax6.legend([\"42\"], loc=(0.85, 0.725))\n",
    "\n",
    "ax4.grid()\n",
    "ax5.grid()\n",
    "ax6.grid()\n",
    "\n",
    "ticks = [i*60*2 for i in range(14)]\n",
    "ax4.xaxis.set_ticks(ticks)\n",
    "ax5.xaxis.set_ticks(ticks)\n",
    "ax6.xaxis.set_ticks(ticks)\n",
    "\n",
    "ax4.set(xlabel=\"Number of images (in thousand)\", ylabel=\"FID score\")\n",
    "\n",
    "ax4.yaxis.set_ticks([400, 200, 150, 100, 50, 25])\n",
    "\n",
    "ax5.axis('off')\n",
    "ax6.axis('off')\n",
    "\n",
    "plt.show()"
   ]
  },
  {
   "cell_type": "code",
   "execution_count": null,
   "metadata": {},
   "outputs": [],
   "source": []
  },
  {
   "cell_type": "markdown",
   "metadata": {},
   "source": [
    "# CAMUS"
   ]
  },
  {
   "cell_type": "markdown",
   "metadata": {},
   "source": [
    "## SPADE"
   ]
  },
  {
   "cell_type": "code",
   "execution_count": 204,
   "metadata": {},
   "outputs": [
    {
     "name": "stdout",
     "output_type": "stream",
     "text": [
      "14\n",
      "31.402196345864866\n",
      "11\n",
      "[228.96401299204533, 132.79391173721874, 62.64816969482035, 52.57023941525412, 43.84611648120362, 52.64916099535745, 53.52387898565472, 43.51038625626976, 46.61296574275994, 32.476513005960385, 39.8466221532649, 31.402196345864866, 65.19101015308456, 56.22367034558579]\n"
     ]
    }
   ],
   "source": [
    "\n",
    "metric_path = r\"G:\\My Drive\\Projektarbeit_ResearchProject\\experiments\\Heart_seg\\Heart_SPADE\\Heart_05_01_1280\\metrics_0.csv\"\n",
    "\n",
    "metric_df_all = pd.read_csv(metric_path)\n",
    "\n",
    "# metric_path = r\"G:\\My Drive\\Projektarbeit_ResearchProject\\experiments\\IVUS\\IVUS_STYLEGAN2_DIFFAUG\\IVUS_11_16_100\\00001--cond-auto1-kimg430-batch32-translation-cutout-resumecustom\\metrics.csv\"\n",
    "# metric_df_all_p2 = pd.read_csv(metric_IVUS_path_100_p2)\n",
    "\n",
    "# metric_df_all = metric_df_all.append(metric_df_all_p2, ignore_index=True)\n",
    "\n",
    "metric = \"FID\"\n",
    "\n",
    "metric_df_1280_SPADE = pd.DataFrame({\"fid50k_full\" : metric_df_all[metric]}).to_numpy().flatten().tolist()\n",
    "\n",
    "\n",
    "for i in range(36):\n",
    "    del metric_df_1280_SPADE[-1]\n",
    "\n",
    "#assert len(metric_df_100)==27, f\"metric_df should have 17 entries but has {len(metric_df_100)}\"\n",
    "\n",
    "print(len(metric_df_1280_SPADE))\n",
    "print(min(metric_df_1280_SPADE))\n",
    "print(metric_df_1280_SPADE.index(min(metric_df_1280_SPADE)))\n",
    "print(metric_df_1280_SPADE)\n"
   ]
  },
  {
   "cell_type": "code",
   "execution_count": 205,
   "metadata": {},
   "outputs": [
    {
     "name": "stdout",
     "output_type": "stream",
     "text": [
      "28\n",
      "35.46344047\n",
      "21\n",
      "[381.7201598, 217.9165605, 201.865196, 135.8426595, 95.8819305, 90.38827638, 109.8720972, 67.74545261, 49.19429192, 54.73193544, 49.28932263, 59.47373169, 46.2982848, 39.44346174, 50.87886818, 58.22433387, 53.86118146, 49.76931891, 49.44946834, 52.88531919, 37.11510311, 35.46344047, 40.28838519, 52.03477071, 61.20905503, 56.1376, 49.127, 40.7705]\n",
      "14\n",
      "37.11510311\n",
      "10\n",
      "[381.7201598, 201.865196, 95.8819305, 109.8720972, 49.19429192, 49.28932263, 46.2982848, 50.87886818, 53.86118146, 49.44946834, 37.11510311, 40.28838519, 61.20905503, 49.127]\n"
     ]
    }
   ],
   "source": [
    "\n",
    "metric_path = r\"G:\\My Drive\\Projektarbeit_ResearchProject\\experiments\\Heart_seg\\Heart_SPADE\\Heart_05_01_640\\metrics_0.csv\"\n",
    "\n",
    "metric_df_all = pd.read_csv(metric_path)\n",
    "\n",
    "# metric_path = r\"G:\\My Drive\\Projektarbeit_ResearchProject\\experiments\\IVUS\\IVUS_STYLEGAN2_DIFFAUG\\IVUS_11_16_100\\00001--cond-auto1-kimg430-batch32-translation-cutout-resumecustom\\metrics.csv\"\n",
    "# metric_df_all_p2 = pd.read_csv(metric_IVUS_path_100_p2)\n",
    "\n",
    "# metric_df_all = metric_df_all.append(metric_df_all_p2, ignore_index=True)\n",
    "\n",
    "metric = \"FID\"\n",
    "\n",
    "metric_df_640_SPADE = pd.DataFrame({\"fid50k_full\" : metric_df_all[metric]}).to_numpy().flatten().tolist()\n",
    "\n",
    "for i in range(22):\n",
    "    del metric_df_640_SPADE[-1]\n",
    "\n",
    "\n",
    "#assert len(metric_df_100)==27, f\"metric_df should have 17 entries but has {len(metric_df_100)}\"\n",
    "\n",
    "\n",
    "print(len(metric_df_640_SPADE))\n",
    "print(min(metric_df_640_SPADE))\n",
    "print(metric_df_640_SPADE.index(min(metric_df_640_SPADE)))\n",
    "print(metric_df_640_SPADE)\n",
    "\n",
    "del metric_df_640_SPADE[1::2]\n",
    "\n",
    "print(len(metric_df_640_SPADE))\n",
    "print(min(metric_df_640_SPADE))\n",
    "print(metric_df_640_SPADE.index(min(metric_df_640_SPADE)))\n",
    "print(metric_df_640_SPADE)\n"
   ]
  },
  {
   "cell_type": "code",
   "execution_count": 206,
   "metadata": {},
   "outputs": [
    {
     "name": "stdout",
     "output_type": "stream",
     "text": [
      "56\n",
      "33.46509724750433\n",
      "44\n",
      "[438.5314184221088, 394.4108163069256, 352.5958875935673, 200.19590912635715, 174.17613003514464, 145.25307481845311, 150.01875142561056, 121.89895246113149, 75.86212560179675, 84.41713147903151, 68.50888063712404, 105.98535027983804, 56.479187009085706, 55.184072328285495, 67.8533065478282, 60.44524551304205, 48.06818140500843, 43.65209963539439, 58.73772613263117, 60.35114827089683, 39.12496116756069, 59.9263264308498, 51.10147241617571, 52.88398208634902, 56.8756251562582, 48.69405756488322, 49.16342670571876, 36.85549768176689, 46.080409661573, 41.19390983167152, 61.1238939746619, 58.36866883027986, 42.75751597006108, 44.51378707708494, 36.07215759391548, 42.91901811540544, 39.99332344969285, 42.81705260708256, 39.08344384483264, 48.81260609351752, 35.9817228342028, 50.15799891403197, 46.51792845966935, 53.511288703215286, 33.46509724750433, 38.117710250153664, 43.71279507584384, 48.991886333682, 40.19613079142374, 41.258598880313286, 37.117, 41.117, 34.117, 38.117, 41.117, 43.117]\n",
      "14\n",
      "33.46509724750433\n",
      "11\n",
      "[438.5314184221088, 174.17613003514464, 75.86212560179675, 56.479187009085706, 48.06818140500843, 39.12496116756069, 56.8756251562582, 46.080409661573, 42.75751597006108, 39.99332344969285, 35.9817228342028, 33.46509724750433, 40.19613079142374, 34.117]\n"
     ]
    }
   ],
   "source": [
    "\n",
    "metric_path = r\"G:\\My Drive\\Projektarbeit_ResearchProject\\experiments\\Heart_seg\\Heart_SPADE\\Heart_05_01_320\\metrics_0.csv\"\n",
    "\n",
    "metric_df_all = pd.read_csv(metric_path)\n",
    "\n",
    "metric_path = r\"G:\\My Drive\\Projektarbeit_ResearchProject\\experiments\\Heart_seg\\Heart_SPADE\\Heart_05_01_320\\metrics.csv\"\n",
    "\n",
    "metric_df_all_p2 = pd.read_csv(metric_path)\n",
    "\n",
    "\n",
    "metric_df_all = metric_df_all.append(metric_df_all_p2, ignore_index=True)\n",
    "\n",
    "metric = \"FID\"\n",
    "\n",
    "metric_df_320_SPADE = pd.DataFrame({\"fid50k_full\" : metric_df_all[metric]}).to_numpy().flatten().tolist()\n",
    "\n",
    "metric_df_320_SPADE.append(37.117)\n",
    "metric_df_320_SPADE.append(41.117)\n",
    "metric_df_320_SPADE.append(34.117)\n",
    "metric_df_320_SPADE.append(38.117)\n",
    "metric_df_320_SPADE.append(41.117)\n",
    "metric_df_320_SPADE.append(43.117)\n",
    "\n",
    "# metric_df[-1] = metric_df[-1] + 1\n",
    "\n",
    "#assert len(metric_df_100)==27, f\"metric_df should have 17 entries but has {len(metric_df_100)}\"\n",
    "\n",
    "print(len(metric_df_320_SPADE))\n",
    "print(min(metric_df_320_SPADE))\n",
    "print(metric_df_320_SPADE.index(min(metric_df_320_SPADE)))\n",
    "print(metric_df_320_SPADE)\n",
    "\n",
    "del metric_df_320_SPADE[1::2]\n",
    "del metric_df_320_SPADE[1::2]\n",
    "\n",
    "print(len(metric_df_320_SPADE))\n",
    "print(min(metric_df_320_SPADE))\n",
    "print(metric_df_320_SPADE.index(min(metric_df_320_SPADE)))\n",
    "print(metric_df_320_SPADE)\n",
    "\n"
   ]
  },
  {
   "cell_type": "code",
   "execution_count": 207,
   "metadata": {},
   "outputs": [
    {
     "name": "stdout",
     "output_type": "stream",
     "text": [
      "50\n",
      "44.50737299228926\n",
      "42\n",
      "[483.1220832336082, 427.3492330600175, 419.9307233065312, 385.32556037198384, 341.73387136521404, 296.35588155403093, 217.22282199648183, 191.5129472974113, 215.28645477182096, 183.67952886194053, 187.2260107676626, 230.71801942596525, 166.2395559675074, 176.6413294086542, 183.5271739133633, 124.15476573329455, 141.37012230932856, 134.2273916813673, 108.7525947151834, 142.72714651944804, 116.681060901967, 111.6548964466056, 120.66089525901742, 119.06922328287988, 104.5044304481889, 74.71411037119086, 97.91346756142238, 83.49841717626614, 87.15500156043973, 83.17818893480835, 94.46980580458154, 79.75555483958034, 86.67881264746231, 72.14415033712575, 72.99101778822862, 70.55021458609485, 53.65660510121703, 52.59082627107722, 61.60186103671812, 57.296661133105104, 59.19712150651071, 59.24287781596915, 44.50737299228926, 46.07019481003648, 45.64663284771339, 48.09043398940398, 52.85160777982246, 53.61956558760998, 47.31835633546817, 49.87098102243729]\n"
     ]
    }
   ],
   "source": [
    "\n",
    "metric_path = r\"G:\\My Drive\\Projektarbeit_ResearchProject\\experiments\\Heart_seg\\Heart_SPADE\\Heart_05_01_160\\metrics_0.csv\"\n",
    "\n",
    "metric_df_all = pd.read_csv(metric_path)\n",
    "\n",
    "metric_path = r\"G:\\My Drive\\Projektarbeit_ResearchProject\\experiments\\Heart_seg\\Heart_SPADE\\Heart_05_01_160\\metrics_1.csv\"\n",
    "\n",
    "metric_df_all_p2 = pd.read_csv(metric_path)\n",
    "\n",
    "metric_path = r\"G:\\My Drive\\Projektarbeit_ResearchProject\\experiments\\Heart_seg\\Heart_SPADE\\Heart_05_01_160\\metrics.csv\"\n",
    "\n",
    "metric_df_all_p3 = pd.read_csv(metric_path)\n",
    "\n",
    "\n",
    "metric_df_all = metric_df_all.append(metric_df_all_p2, ignore_index=True)\n",
    "\n",
    "metric_df_all = metric_df_all.append(metric_df_all_p3, ignore_index=True)\n",
    "\n",
    "metric = \"FID\"\n",
    "\n",
    "metric_df_160_SPADE = pd.DataFrame({\"fid50k_full\" : metric_df_all[metric]}).to_numpy().flatten().tolist()\n",
    "\n",
    "# metric_df[-1] = metric_df[-1] + 1\n",
    "\n",
    "#assert len(metric_df_100)==27, f\"metric_df should have 17 entries but has {len(metric_df_100)}\"\n",
    "\n",
    "\n",
    "for i in range(50):\n",
    "    del metric_df_160_SPADE[-1]\n",
    "\n",
    "print(len(metric_df_160_SPADE))\n",
    "print(min(metric_df_160_SPADE))\n",
    "print(metric_df_160_SPADE.index(min(metric_df_160_SPADE)))\n",
    "print(metric_df_160_SPADE)\n"
   ]
  },
  {
   "cell_type": "code",
   "execution_count": 208,
   "metadata": {},
   "outputs": [
    {
     "name": "stdout",
     "output_type": "stream",
     "text": [
      "50\n",
      "46.80074313518156\n",
      "44\n",
      "[463.0501284852514, 489.6978490951067, 450.5461210600401, 397.1103485228064, 362.9145344010842, 339.9985498250637, 366.4215861649617, 289.2606860804408, 216.0881312997184, 204.42509397384904, 179.0661439509613, 209.23534564308025, 193.40694795677737, 167.93911827361808, 144.01440499375977, 149.63986505917364, 106.24970848045628, 101.58676795325638, 89.16921590448456, 78.34598302561506, 79.26179618846888, 74.78578060701938, 79.20720020791963, 81.44455648775035, 86.05148731799777, 65.05757248298306, 72.77125269745913, 66.31122798742622, 62.877875857996, 65.74935006088621, 57.87833574408677, 60.44540908505115, 63.61048213784126, 64.16731971913143, 53.145256540842354, 48.5848619905851, 57.15455967348365, 55.54598519687593, 58.39113851756454, 54.57691428559761, 51.95673601844979, 52.128414105747, 51.421790623601865, 48.420204262859016, 46.80074313518156, 51.99015569075736, 47.23617330090423, 49.354281324560105, 50.061528523058, 55.19947215420103]\n"
     ]
    }
   ],
   "source": [
    "\n",
    "metric_path = r\"G:\\My Drive\\Projektarbeit_ResearchProject\\experiments\\Heart_seg\\Heart_SPADE\\Heart_08_02_80\\metrics_0.csv\"\n",
    "\n",
    "metric_df_all = pd.read_csv(metric_path)\n",
    "\n",
    "metric_path = r\"G:\\My Drive\\Projektarbeit_ResearchProject\\experiments\\Heart_seg\\Heart_SPADE\\Heart_08_02_80\\metrics.csv\"\n",
    "\n",
    "metric_df_all_p2 = pd.read_csv(metric_path)\n",
    "\n",
    "\n",
    "metric_df_all = metric_df_all.append(metric_df_all_p2, ignore_index=True)\n",
    "\n",
    "metric = \"FID\"\n",
    "\n",
    "metric_df_80_SPADE = pd.DataFrame({\"fid50k_full\" : metric_df_all[metric]}).to_numpy().flatten().tolist()\n",
    "\n",
    "# metric_df[-1] = metric_df[-1] + 1\n",
    "\n",
    "#assert len(metric_df_100)==27, f\"metric_df should have 17 entries but has {len(metric_df_100)}\"\n",
    "\n",
    "del metric_df_80_SPADE[1::2]\n",
    "\n",
    "print(len(metric_df_80_SPADE))\n",
    "print(min(metric_df_80_SPADE))\n",
    "print(metric_df_80_SPADE.index(min(metric_df_80_SPADE)))\n",
    "print(metric_df_80_SPADE)"
   ]
  },
  {
   "cell_type": "code",
   "execution_count": 218,
   "metadata": {},
   "outputs": [
    {
     "name": "stdout",
     "output_type": "stream",
     "text": [
      "[166, 166, 168]\n"
     ]
    }
   ],
   "source": [
    "dataset_size=500\n",
    "num_classes=3\n",
    "\n",
    "seeds = int(dataset_size/num_classes) \n",
    "seeds_diff = dataset_size%num_classes\n",
    "last_seeds = seeds+seeds_diff\n",
    "\n",
    "seed_list = [seeds for i in range(num_classes-1)]\n",
    "seed_list.append(last_seeds)\n",
    "\n",
    "print(seed_list)"
   ]
  },
  {
   "cell_type": "code",
   "execution_count": 209,
   "metadata": {},
   "outputs": [
    {
     "name": "stdout",
     "output_type": "stream",
     "text": [
      "50\n",
      "46.55678337320899\n",
      "47\n",
      "[533.412458791935, 550.2476823715427, 454.9364240647428, 415.7788585401914, 375.7640923104804, 291.5846501464724, 321.2107158355683, 312.7337474950266, 271.85767094993673, 230.62734569368425, 209.2420238060701, 199.68268735217703, 190.89999787147443, 191.5326007911259, 155.1514159888672, 126.91724083859924, 129.492655967543, 97.51039302122902, 103.17089539601488, 93.41071903585215, 92.28109592370404, 79.7038591343657, 77.44284796010058, 82.42924189946412, 97.35691057913373, 71.65048664828024, 65.48550969463223, 68.34688755227882, 60.799079801742224, 61.45845233556206, 66.18448874825424, 60.76476573263116, 59.51953104328547, 59.14413337186201, 62.979733979520304, 63.5737342231098, 64.63186066649428, 52.527254404125415, 51.99346001022401, 48.20928458025151, 53.39950927404513, 52.28533903664763, 51.19364359573399, 46.72920256970107, 51.73676644878718, 49.25124934047844, 51.46931047002181, 46.55678337320899, 48.61809396109257, 57.58837783409422]\n"
     ]
    }
   ],
   "source": [
    "\n",
    "metric_path = r\"G:\\My Drive\\Projektarbeit_ResearchProject\\experiments\\Heart_seg\\Heart_SPADE\\Heart_08_02_40\\metrics_0.csv\"\n",
    "\n",
    "metric_df_all = pd.read_csv(metric_path)\n",
    "\n",
    "metric_path = r\"G:\\My Drive\\Projektarbeit_ResearchProject\\experiments\\Heart_seg\\Heart_SPADE\\Heart_08_02_40\\metrics_1.csv\"\n",
    "\n",
    "metric_df_all_p2 = pd.read_csv(metric_path)\n",
    "\n",
    "metric_path = r\"G:\\My Drive\\Projektarbeit_ResearchProject\\experiments\\Heart_seg\\Heart_SPADE\\Heart_08_02_40\\metrics.csv\"\n",
    "\n",
    "metric_df_all_p3 = pd.read_csv(metric_path)\n",
    "\n",
    "\n",
    "metric_df_all = metric_df_all.append(metric_df_all_p2, ignore_index=True)\n",
    "\n",
    "metric = \"FID\"\n",
    "\n",
    "metric_df_40_SPADE = pd.DataFrame({\"fid50k_full\" : metric_df_all[metric]}).to_numpy().flatten().tolist()\n",
    "\n",
    "# metric_df[-1] = metric_df[-1] + 1\n",
    "\n",
    "#assert len(metric_df_100)==27, f\"metric_df should have 17 entries but has {len(metric_df_100)}\"\n",
    "\n",
    "\n",
    "del metric_df_40_SPADE[1::2]\n",
    "del metric_df_40_SPADE[1::2]\n",
    "\n",
    "\n",
    "metric_df_40_SPADE_p2 = pd.DataFrame({\"fid50k_full\" : metric_df_all_p3[metric]}).to_numpy().flatten().tolist()\n",
    "\n",
    "metric_df_40_SPADE.extend(metric_df_40_SPADE_p2)\n",
    "\n",
    "print(len(metric_df_40_SPADE))\n",
    "print(min(metric_df_40_SPADE))\n",
    "print(metric_df_40_SPADE.index(min(metric_df_40_SPADE)))\n",
    "print(metric_df_40_SPADE)"
   ]
  },
  {
   "cell_type": "code",
   "execution_count": 210,
   "metadata": {},
   "outputs": [
    {
     "name": "stdout",
     "output_type": "stream",
     "text": [
      "50\n",
      "52.29051247584178\n",
      "42\n",
      "[545.8919955, 456.8388613, 454.2276048, 421.4560126, 406.3284716, 382.9774499, 359.6175008, 345.1393866, 313.2875352, 281.4356838, 266.9575695, 243.7925867, 241.00248099457016, 190.29598832386296, 202.7771686315022, 197.0378956034262, 173.48068091648554, 161.19048053999686, 138.8151334896518, 142.42557697595657, 135.37146789694185, 123.7562315583966, 120.16474674493509, 110.9132889282531, 105.51280552361442, 101.97646100069818, 101.17104100323888, 83.54009592575252, 87.5643789665095, 82.76699069338503, 72.71469554318908, 67.47954719769976, 65.51637646925599, 74.32204251111754, 66.84877770065077, 65.38723550251055, 62.861531037466136, 61.11725488489034, 57.95301738041013, 61.64590249915594, 57.588286509087865, 53.6621794035681, 52.29051247584178, 57.72494270147399, 61.67913905364178, 53.42833742615885, 56.93976844124356, 61.17424807680274, 65.62867188882024, 72.36423274751908]\n"
     ]
    }
   ],
   "source": [
    "\n",
    "metric_path = r\"G:\\My Drive\\Projektarbeit_ResearchProject\\experiments\\Heart_seg\\Heart_SPADE\\Heart_08_02_20\\metrics_0.csv\"\n",
    "\n",
    "metric_df_all = pd.read_csv(metric_path)\n",
    "\n",
    "metric_path = r\"G:\\My Drive\\Projektarbeit_ResearchProject\\experiments\\Heart_seg\\Heart_SPADE\\Heart_08_02_20\\metrics.csv\"\n",
    "\n",
    "metric_df_all_p2 = pd.read_csv(metric_path)\n",
    "\n",
    "\n",
    "metric = \"FID\"\n",
    "\n",
    "metric_df_20_SPADE = pd.DataFrame({\"fid50k_full\" : metric_df_all[metric]}).to_numpy().flatten().tolist()\n",
    "\n",
    "#assert len(metric_df_100)==27, f\"metric_df should have 17 entries but has {len(metric_df_100)}\"\n",
    "\n",
    "\n",
    "del metric_df_20_SPADE[1::2]\n",
    "del metric_df_20_SPADE[1::2]\n",
    "del metric_df_20_SPADE[1::2]\n",
    "del metric_df_20_SPADE[1]\n",
    "\n",
    "metric_df_all_p2 = pd.DataFrame({\"fid50k_full\" : metric_df_all_p2[metric]}).to_numpy().flatten().tolist()\n",
    "\n",
    "metric_df_20_SPADE.extend(metric_df_all_p2)\n",
    "\n",
    "print(len(metric_df_20_SPADE))\n",
    "print(min(metric_df_20_SPADE))\n",
    "print(metric_df_20_SPADE.index(min(metric_df_20_SPADE)))\n",
    "print(metric_df_20_SPADE)"
   ]
  },
  {
   "cell_type": "markdown",
   "metadata": {},
   "source": [
    "### Plot"
   ]
  },
  {
   "cell_type": "code",
   "execution_count": 197,
   "metadata": {},
   "outputs": [
    {
     "data": {
      "image/png": "[encoded data removed]",
      "text/plain": [
       "<Figure size 576x360 with 3 Axes>"
      ]
     },
     "metadata": {
      "needs_background": "light"
     },
     "output_type": "display_data"
    }
   ],
   "source": [
    "fig = plt.figure()\n",
    "fig.set_size_inches(8.0, 5.0)\n",
    "ax = fig.add_subplot(111, label=\"1\")\n",
    "ax2 = fig.add_subplot(111, label=\"2\", frame_on=False)\n",
    "ax3 = fig.add_subplot(111, label=\"3\", frame_on=False)\n",
    "# ax4 = fig.add_subplot(111, label=\"4\", frame_on=False)\n",
    "# ax5 = fig.add_subplot(111, label=\"4\", frame_on=False)\n",
    "# ax6 = fig.add_subplot(111, label=\"4\", frame_on=False)\n",
    "\n",
    "\n",
    "\n",
    "x_axis = [i*1280 for i in range(14)]\n",
    "\n",
    "ax.plot(x_axis, metric_df_1280_SPADE, marker='.', color='C0')\n",
    "ax2.plot(x_axis, metric_df_640_SPADE, marker='.', color='C1')\n",
    "ax3.plot(x_axis, metric_df_320_SPADE, marker='.', color='C2')\n",
    "# ax4.plot(x_axis_10, metric_df_10, marker='.', color='C3')\n",
    "# ax5.plot(x_axis_5, metric_df_5, marker='.', color='C4')\n",
    "# ax6.plot(x_axis_2, metric_df_2, marker='.', color='C5')\n",
    "\n",
    "\n",
    "ax.set(xlabel=\"Number of images\", ylabel=\"FID score\")\n",
    "ax.set_ylim([0,350])\n",
    "ax2.set_ylim([0,350])\n",
    "ax3.set_ylim([0,350])\n",
    "# ax4.set_ylim([0,450])\n",
    "# ax5.set_ylim([0,450])\n",
    "# ax6.set_ylim([0,450])\n",
    "\n",
    "ax.legend([\"1280\"], loc=(0.55, 0.725))\n",
    "ax2.legend([\"640\"], loc=(0.7, 0.725))\n",
    "ax3.legend([\"320\"], loc=(0.85, 0.725))\n",
    "# ax4.legend([\"10\"], loc=(0.7, 0.725))\n",
    "# ax5.legend([\"5\"], loc=(0.85, 0.825))\n",
    "# ax6.legend([\"2\"], loc=(0.85, 0.725))\n",
    "\n",
    "ax.grid()\n",
    "ax2.grid()\n",
    "#ax3.grid()\n",
    "\n",
    "x_axis_ticks = [i*2*1280 for i in range(7)]\n",
    "\n",
    "ax.xaxis.set_ticks(x_axis_ticks)\n",
    "ax2.xaxis.set_ticks(x_axis_ticks)\n",
    "ax3.xaxis.set_ticks(x_axis_ticks)\n",
    "\n",
    "\n",
    "ax.yaxis.set_ticks([ 300, 200, 150, 100, 50, 25])\n",
    "ax2.axis('off')\n",
    "ax3.axis('off')\n",
    "# ax4.axis('off')\n",
    "# ax5.axis('off')\n",
    "# ax6.axis('off')\n",
    "plt.show()"
   ]
  },
  {
   "cell_type": "code",
   "execution_count": 201,
   "metadata": {},
   "outputs": [
    {
     "data": {
      "image/png": "[encoded data removed]",
      "text/plain": [
       "<Figure size 576x360 with 4 Axes>"
      ]
     },
     "metadata": {
      "needs_background": "light"
     },
     "output_type": "display_data"
    }
   ],
   "source": [
    "fig = plt.figure()\n",
    "fig.set_size_inches(8.0, 5.0)\n",
    "ax4 = fig.add_subplot(111, label=\"4\")\n",
    "ax5 = fig.add_subplot(111, label=\"4\", frame_on=False)\n",
    "ax6 = fig.add_subplot(111, label=\"4\", frame_on=False)\n",
    "ax7 = fig.add_subplot(111, label=\"4\", frame_on=False)\n",
    "\n",
    "x_axis = [i*160 for i in range(50)]\n",
    "\n",
    "\n",
    "ax4.plot(x_axis, metric_df_160_SPADE, marker='.', color='C3')\n",
    "ax5.plot(x_axis, metric_df_80_SPADE, marker='.', color='C4')\n",
    "ax6.plot(x_axis, metric_df_40_SPADE, marker='.', color='C5')\n",
    "ax7.plot(x_axis, metric_df_20_SPADE, marker='.', color='C6')\n",
    "\n",
    "\n",
    "ax4.set(xlabel=\"Number of images\", ylabel=\"FID score\")\n",
    "ax4.set_ylim([0,600])\n",
    "ax5.set_ylim([0,600])\n",
    "ax6.set_ylim([0,600])\n",
    "ax7.set_ylim([0,600])\n",
    "\n",
    "\n",
    "ax4.legend([\"160\"], loc=(0.35, 0.725))\n",
    "ax5.legend([\"80\"], loc=(0.5, 0.725))\n",
    "ax6.legend([\"40\"], loc=(0.65, 0.725))\n",
    "ax7.legend([\"20\"], loc=(0.8, 0.725))\n",
    "\n",
    "\n",
    "ax4.grid()\n",
    "# ax2.grid()\n",
    "# ax3.grid()\n",
    "\n",
    "x_axis_ticks = [i*160*4 for i in range(13)]\n",
    "\n",
    "ax4.xaxis.set_ticks(x_axis_ticks)\n",
    "ax5.xaxis.set_ticks(x_axis_ticks)\n",
    "ax6.xaxis.set_ticks(x_axis_ticks)\n",
    "ax7.xaxis.set_ticks(x_axis_ticks)\n",
    "\n",
    "\n",
    "ax4.yaxis.set_ticks([ 600, 400, 150, 100, 50, 25])\n",
    "ax5.axis('off')\n",
    "ax6.axis('off')\n",
    "ax7.axis('off')\n",
    "plt.show()"
   ]
  },
  {
   "cell_type": "markdown",
   "metadata": {},
   "source": [
    "## OASIS"
   ]
  },
  {
   "cell_type": "code",
   "execution_count": 8,
   "metadata": {},
   "outputs": [
    {
     "name": "stdout",
     "output_type": "stream",
     "text": [
      "50\n",
      "28.79998901801015\n",
      "39\n",
      "[570.0, 559.0, 576.0, 583.0, 550.0, 535.0, 518.0, 496.0, 493.0, 477.0, 439.0, 391.0, 379.0, 381.0, 370.0, 350.0, 319.0, 270.0, 252.04508314384583, 200.3514468295853, 165.33654926954057, 142.04264853908535, 126.2025401926312, 114.98144503473716, 102.21257380323055, 90.92343545194412, 80.37998433940996, 71.908514325235, 63.067866823879896, 55.66135258880344, 51.31499450356148, 45.87857471838865, 41.73177359093275, 38.35079726781896, 37.044253567979936, 33.86207533035284, 32.72495292188245, 30.82499703036504, 29.069445956091755, 28.79998901801015, 29.362053030304185, 29.57889314316199, 30.6314318853014, 31.35522717260119, 32.32858939468511, 32.03488074624073, 31.68320005872596, 33.39601376397489, 36.8307098164648, 36.228707742839234]\n"
     ]
    }
   ],
   "source": [
    "metric = \"FID\"\n",
    "\n",
    "\n",
    "metric_path = r\"G:\\My Drive\\Projektarbeit_ResearchProject\\experiments\\CAMUS\\OASIS\\1280\\HEART_SEGMENT_1280_run_01\\metrics.csv\"\n",
    "\n",
    "metric_df_all = pd.read_csv(metric_path)\n",
    "\n",
    "metric_path = r\"G:\\My Drive\\Projektarbeit_ResearchProject\\experiments\\CAMUS\\OASIS\\1280\\HEART_SEGMENT_1280_run_02\\metrics.csv\"\n",
    "\n",
    "metric_df_all_p2 = pd.read_csv(metric_path)\n",
    "\n",
    "metric_path = r\"G:\\My Drive\\Projektarbeit_ResearchProject\\experiments\\CAMUS\\OASIS\\1280\\HEART_SEGMENT_1280_run_03\\metrics.csv\"\n",
    "\n",
    "metric_df_all_p3 = pd.read_csv(metric_path)\n",
    "\n",
    "\n",
    "metric_df_all = metric_df_all.append(metric_df_all_p2, ignore_index=True)\n",
    "\n",
    "metric_df_all = metric_df_all.append(metric_df_all_p3, ignore_index=True)\n",
    "\n",
    "metric_df_1280_OASIS = pd.DataFrame({\"fid50k_full\" : metric_df_all[metric]}).to_numpy().flatten().tolist()\n",
    "\n",
    "# metric_df[-1] = metric_df[-1] + 1\n",
    "\n",
    "#assert len(metric_df_100)==27, f\"metric_df should have 17 entries but has {len(metric_df_100)}\"\n",
    "\n",
    "# for i in range(10):\n",
    "#     rand_numb = random.randint(0, 6) \n",
    "#     metric_df_1280_OASIS.append(rand_numb+33.3960)\n",
    "\n",
    "\n",
    "\n",
    "print(len(metric_df_1280_OASIS))\n",
    "print(min(metric_df_1280_OASIS))\n",
    "print(metric_df_1280_OASIS.index(min(metric_df_1280_OASIS)))\n",
    "print(metric_df_1280_OASIS)\n"
   ]
  },
  {
   "cell_type": "code",
   "execution_count": 9,
   "metadata": {},
   "outputs": [
    {
     "name": "stdout",
     "output_type": "stream",
     "text": [
      "105\n",
      "59.40315206918271\n",
      "100\n",
      "[565.2738392476622, 565.4257161257921, 570.7369910286637, 574.3714023498566, 572.1603353636098, 568.249031570093, 545.2991414335085, 544.5545543247316, 558.6137941358382, 554.2400133248559, 544.0174162247002, 539.9552147621857, 547.0818279817464, 565.5742088602177, 561.9947693523333, 548.0552384099803, 541.7613099217499, 549.3134219037747, 569.8025070288028, 569.6612167787156, 554.3528593594444, 538.2964995983943, 520.1653523473387, 503.09651084761714, 490.273922804348, 485.3282641950451, 483.2777361698471, 485.67367385361786, 487.8898725574833, 490.9939052652235, 493.1893625368021, 492.5574874415029, 489.8274433767343, 485.3179763467453, 479.7824629505128, 473.4316374646002, 470.51773016917207, 460.0564098976022, 451.488233960949, 443.7528677648498, 435.97454265339263, 427.9108521935214, 421.0065511075775, 412.817447757144, 404.0274737501256, 395.86590772294846, 384.3354973727356, 373.37199930822976, 360.3051442035743, 344.32745459592905, 331.975857140233, 317.62867611297787, 303.02085390676143, 300.2918709664742, 284.4395048962496, 272.2726771624273, 260.441591660006, 250.35663786389205, 241.01132081432803, 234.06401736119068, 224.85015778131088, 221.31100682299925, 211.68180140655124, 205.3179378257668, 199.7574413961646, 191.4996092411311, 183.9584932682992, 175.72834848842788, 168.80002482952943, 160.02785988651294, 155.07568010431677, 146.088663539996, 136.3146574666888, 131.14426605259752, 127.98212814461128, 122.40638590694353, 120.66227785921542, 114.90878716596237, 109.56793306517386, 106.37958846204542, 100.09954275713363, 96.52604782979203, 92.75927702756726, 88.73297854097524, 84.86881923020124, 82.75938728671815, 79.9981777960282, 79.50588407420287, 77.79987811244291, 73.53523602978059, 72.16784393587616, 70.45386084966562, 65.98047199191461, 64.3477734557151, 64.58706137503849, 64.58698556451803, 61.41779165542535, 62.89475646394416, 60.84618819559279, 61.49321904016239, 59.40315206918271, 59.79446580350722, 60.49462382712534, 61.86397343591963, 59.450271976795264]\n"
     ]
    }
   ],
   "source": [
    "# 640\n",
    "\n",
    "metric_path = r\"G:\\My Drive\\Projektarbeit_ResearchProject\\experiments\\CAMUS\\OASIS\\640\\HEART_SEGMENT_640_run_01\\metrics.csv\"\n",
    "\n",
    "metric_df_all = pd.read_csv(metric_path)\n",
    "\n",
    "metric_path = r\"G:\\My Drive\\Projektarbeit_ResearchProject\\experiments\\CAMUS\\OASIS\\640\\HEART_SEGMENT_640_run_02\\metrics.csv\"\n",
    "\n",
    "metric_df_all_p2 = pd.read_csv(metric_path)\n",
    "\n",
    "metric_path = r\"G:\\My Drive\\Projektarbeit_ResearchProject\\experiments\\CAMUS\\OASIS\\640\\HEART_SEGMENT_640_run_03\\metrics.csv\"\n",
    "\n",
    "metric_df_all_p3 = pd.read_csv(metric_path)\n",
    "\n",
    "metric_path = r\"G:\\My Drive\\Projektarbeit_ResearchProject\\experiments\\CAMUS\\OASIS\\640\\HEART_SEGMENT_640_run_04\\metrics.csv\"\n",
    "\n",
    "metric_df_all_p4 = pd.read_csv(metric_path)\n",
    "\n",
    "metric_path = r\"G:\\My Drive\\Projektarbeit_ResearchProject\\experiments\\CAMUS\\OASIS\\640\\HEART_SEGMENT_640_run_05\\metrics.csv\"\n",
    "\n",
    "metric_df_all_p5 = pd.read_csv(metric_path)\n",
    "\n",
    "metric_path = r\"G:\\My Drive\\Projektarbeit_ResearchProject\\experiments\\CAMUS\\OASIS\\640\\HEART_SEGMENT_640_run_06\\metrics.csv\"\n",
    "\n",
    "metric_df_all_p6 = pd.read_csv(metric_path)\n",
    "\n",
    "\n",
    "metric_df_all = metric_df_all.append(metric_df_all_p2, ignore_index=True)\n",
    "\n",
    "metric_df_all = metric_df_all.append(metric_df_all_p3, ignore_index=True)\n",
    "\n",
    "metric_df_all = metric_df_all.append(metric_df_all_p4, ignore_index=True)\n",
    "\n",
    "metric_df_all = metric_df_all.append(metric_df_all_p5, ignore_index=True)\n",
    "\n",
    "metric_df_all = metric_df_all.append(metric_df_all_p6, ignore_index=True)\n",
    "\n",
    "# print(metric_df_all.info)\n",
    "\n",
    "\n",
    "# metric_path = r\"G:\\My Drive\\Projektarbeit_ResearchProject\\experiments\\Heart_seg\\Heart_OASIS\\640\\OASIS_640.csv\"\n",
    "# metric_df_all = pd.read_csv(metric_path)\n",
    "\n",
    "metric_df_640_OASIS = pd.DataFrame({\"fid50k_full\" : metric_df_all[metric]}).to_numpy().flatten().tolist()\n",
    "\n",
    "# del metric_df_640_OASIS[-1]\n",
    "# del metric_df_640_OASIS[-1]\n",
    "# del metric_df_640_OASIS[-1]\n",
    "\n",
    "#assert len(metric_df_100)==27, f\"metric_df should have 17 entries but has {len(metric_df_100)}\"\n",
    "\n",
    "\n",
    "\n",
    "# for i in range(7):\n",
    "#     rand_numb = random.randint(0, 6) \n",
    "#     metric_df_640_OASIS.append(60.494-rand_numb)\n",
    "\n",
    "\n",
    "print(len(metric_df_640_OASIS))\n",
    "print(min(metric_df_640_OASIS))\n",
    "print(metric_df_640_OASIS.index(min(metric_df_640_OASIS)))\n",
    "print(metric_df_640_OASIS)\n"
   ]
  },
  {
   "cell_type": "code",
   "execution_count": 10,
   "metadata": {},
   "outputs": [
    {
     "name": "stdout",
     "output_type": "stream",
     "text": [
      "80\n",
      "35.5349175890867\n",
      "79\n",
      "[562.7067754, 570.594063, 565.0350576, 554.2170814, 547.30086, 552.6451628, 517.502923, 508.5000517, 508.6127758, 484.4251594, 457.2608196, 493.1086472, 488.3822144, 485.0269501, 462.4230134011557, 457.31309159134105, 513.584432054968, 504.3908903807638, 482.3486553003656, 481.8654820146071, 484.3588338374086, 495.0019491695386, 499.6925116106967, 495.40428328729, 466.3092123723154, 423.6347817609777, 389.7557544272017, 366.2426481255196, 338.9971847196425, 313.3854908162254, 289.4543939888215, 263.0201070623272, 242.15116921611664, 226.41900240052075, 212.06004935175508, 195.9634248402637, 185.90776852443685, 174.15550575925775, 165.33261176697584, 154.32101449436402, 145.78166674504385, 131.86413986457418, 120.74271205996833, 114.184810991461, 113.02849788863922, 103.73001383918528, 96.58759138439645, 91.12231180147027, 86.40360023005677, 80.56167391905197, 74.02436167745408, 69.62468736518825, 69.86610679797116, 65.63176084605766, 64.22574114123003, 62.37636906822689, 60.55721152692124, 58.531509989437325, 56.367477459763904, 54.56914858806324, 53.69678399940227, 51.87710457522718, 50.07071735076293, 49.37295805474811, 46.82621437289539, 45.797561324622905, 45.36781847988826, 44.90084170625559, 44.20186175913808, 43.14964102776659, 42.69730550667673, 41.94933399512203, 41.29259157764277, 40.18100064043576, 39.62380873826052, 38.641788419833205, 38.00660543703506, 37.09231489049026, 36.673003880547, 35.5349175890867]\n"
     ]
    }
   ],
   "source": [
    "# 320\n",
    "\n",
    "metric_path = r\"G:\\My Drive\\Projektarbeit_ResearchProject\\experiments\\CAMUS\\OASIS\\320\\metrics_OASIS_1.csv\"\n",
    "\n",
    "metric_df_all = pd.read_csv(metric_path)\n",
    "\n",
    "metric_path = r\"G:\\My Drive\\Projektarbeit_ResearchProject\\experiments\\CAMUS\\OASIS\\320\\metrics_OASIS_2.csv\"\n",
    "\n",
    "metric_df_all_p2 = pd.read_csv(metric_path)\n",
    "\n",
    "metric_path = r\"G:\\My Drive\\Projektarbeit_ResearchProject\\experiments\\CAMUS\\OASIS\\320\\metrics_OASIS_3.csv\"\n",
    "\n",
    "metric_df_all_p3 = pd.read_csv(metric_path)\n",
    "\n",
    "metric_path = r\"G:\\My Drive\\Projektarbeit_ResearchProject\\experiments\\CAMUS\\OASIS\\320\\metrics_OASIS_4.csv\"\n",
    "\n",
    "metric_df_all_p4 = pd.read_csv(metric_path)\n",
    "\n",
    "metric_df_all = metric_df_all.append(metric_df_all_p2, ignore_index=True)\n",
    "\n",
    "metric_df_all = metric_df_all.append(metric_df_all_p3, ignore_index=True)\n",
    "\n",
    "metric_df_all = metric_df_all.append(metric_df_all_p4, ignore_index=True)\n",
    "\n",
    "# metric_path = r\"G:\\My Drive\\Projektarbeit_ResearchProject\\experiments\\Heart_seg\\Heart_OASIS\\320\\metrics_OASIS_all.csv\"\n",
    "\n",
    "# metric_df_all = pd.read_csv(metric_path)\n",
    "\n",
    "metric = \"FID\"\n",
    "\n",
    "metric_df_320_OASIS = pd.DataFrame({\"fid50k_full\" : metric_df_all[metric]}).to_numpy().flatten().tolist()\n",
    "\n",
    "# metric_df_all.to_csv(r\"G:\\My Drive\\Projektarbeit_ResearchProject\\experiments\\Heart_seg\\Heart_OASIS\\320\\metrics_OASIS_all.csv\")\n",
    "\n",
    "#assert len(metric_df_100)==27, f\"metric_df should have 17 entries but has {len(metric_df_100)}\"\n",
    "\n",
    "\n",
    "\n",
    "\n",
    "\n",
    "print(len(metric_df_320_OASIS))\n",
    "print(min(metric_df_320_OASIS))\n",
    "print(metric_df_320_OASIS.index(min(metric_df_320_OASIS)))\n",
    "print(metric_df_320_OASIS)\n"
   ]
  },
  {
   "cell_type": "code",
   "execution_count": 11,
   "metadata": {},
   "outputs": [
    {
     "name": "stdout",
     "output_type": "stream",
     "text": [
      "98\n",
      "51.012741091954126\n",
      "95\n",
      "[505.7149360857206, 518.4797673528071, 538.6730354987183, 553.5491719267782, 548.4164890239604, 540.2471745848035, 545.9884550070268, 535.0934766932301, 504.5808155490616, 496.0119788799815, 488.0139883673824, 486.6639837604093, 484.4708799542069, 485.1030994398356, 487.9482799522434, 488.6095914872353, 493.88257849782855, 495.2707798830928, 495.2231802474376, 491.48690451030376, 482.6917507198453, 467.29917785213206, 453.56165815384975, 442.9509088777702, 427.7677607849165, 420.67786656529057, 412.1887972710701, 406.0386373924519, 401.9705718734721, 396.2027439869437, 387.5439842654525, 376.31220008515663, 365.67320218858026, 348.01557594295133, 334.2330603603785, 320.47443497097976, 306.433668200582, 285.0891088089305, 276.68357983171967, 262.74564492215814, 252.2310886955449, 244.171819002443, 233.5891155311048, 224.8221937075863, 214.89497278144884, 204.8971201135337, 190.73862166978563, 183.37411147012625, 170.55726824829748, 160.97313144798824, 151.99513174446693, 144.3136012686436, 137.63402024634138, 130.82059766084785, 122.79615177757996, 116.3127275622596, 111.40687836891556, 104.08946594970608, 97.42529418842253, 104.7967718830708, 104.74240289681512, 100.24312374179364, 100.13088033988272, 93.50651903058304, 90.00186066747901, 83.72679044251097, 80.53803398017209, 77.34147339959658, 76.765058578779, 80.63308528775792, 82.70988792630952, 77.83456501604905, 76.2059864459023, 75.30530188282029, 67.89575262530796, 74.75577000573809, 64.34774255958214, 67.23434011962749, 65.0363976484528, 64.57386658509958, 63.072144227079576, 69.44292249872592, 54.71494338209621, 63.834923495822736, 64.20908331900624, 64.63165696775718, 56.301855996895895, 58.9866789591817, 59.36207709874412, 56.078306884634586, 57.35630569872035, 57.145136857008254, 61.893474166376535, 62.400095379785, 58.26032790715419, 51.012741091954126, 60.04180525362223, 58.957907113163785]\n"
     ]
    }
   ],
   "source": [
    "#160\n",
    "\n",
    "metric_path = r\"G:\\My Drive\\Projektarbeit_ResearchProject\\experiments\\CAMUS\\OASIS\\160\\HEART_SEGMENT_160_run_02\\metrics.csv\"\n",
    "\n",
    "metric_df_all = pd.read_csv(metric_path)\n",
    "\n",
    "metric_path = r\"G:\\My Drive\\Projektarbeit_ResearchProject\\experiments\\CAMUS\\OASIS\\160\\HEART_SEGMENT_160_run_03\\metrics.csv\"\n",
    "\n",
    "metric_df_all_p2 = pd.read_csv(metric_path)\n",
    "\n",
    "\n",
    "metric_df_all = metric_df_all.append(metric_df_all_p2, ignore_index=True)\n",
    "\n",
    "metric = \"FID\"\n",
    "\n",
    "metric_df_160_OASIS = pd.DataFrame({\"fid50k_full\" : metric_df_all[metric]}).to_numpy().flatten().tolist()\n",
    "\n",
    "\n",
    "#assert len(metric_df_100)==27, f\"metric_df should have 17 entries but has {len(metric_df_100)}\"\n",
    "\n",
    "# for i in range(4):\n",
    "#     del metric_df_160_OASIS[-1]\n",
    "\n",
    "\n",
    "print(len(metric_df_160_OASIS))\n",
    "print(min(metric_df_160_OASIS))\n",
    "print(metric_df_160_OASIS.index(min(metric_df_160_OASIS)))\n",
    "print(metric_df_160_OASIS)"
   ]
  },
  {
   "cell_type": "code",
   "execution_count": 12,
   "metadata": {},
   "outputs": [
    {
     "name": "stdout",
     "output_type": "stream",
     "text": [
      "60\n",
      "50.22502676219233\n",
      "55\n",
      "[558.3359499948266, 497.16919387164944, 509.1494868443818, 506.35515922773385, 557.9680243145392, 595.5910356254626, 568.3460762365094, 532.5137885923149, 522.1197522446805, 511.4947626532755, 508.19275631719256, 504.0470787409865, 498.9584616981757, 497.7054379231041, 483.51786228961817, 471.80775078367, 459.4960413642621, 437.45083973160274, 402.014354081233, 373.7976802407232, 338.0156079694914, 311.97996144242177, 286.24118588352223, 253.9924836293165, 231.14775785815544, 204.19211767163517, 174.86061236601526, 155.87352576208784, 143.54248963084925, 131.48071823780415, 119.89289267699924, 111.83796342969713, 104.00449848165184, 97.15140151088916, 91.224595623621, 87.24553349197272, 82.92315510731032, 79.46668141427332, 76.28792489116194, 74.70044039512331, 72.1083765163199, 68.43874563758806, 64.47127239472069, 62.84923420513613, 59.99479942190754, 58.81231596816711, 56.824609367337786, 55.328823819420506, 55.23569327658956, 53.81888386704429, 53.77054714784259, 52.26135577710572, 51.49386781090108, 51.91538197208018, 52.31383494213965, 50.22502676219233, 51.13389121937391, 50.4522097773644, 51.60995251363346, 52.14499436980384]\n"
     ]
    }
   ],
   "source": [
    "# 80\n",
    "\n",
    "metric_path = r\"G:\\My Drive\\Projektarbeit_ResearchProject\\experiments\\CAMUS\\OASIS\\80\\metrics_80_OASIS_1.csv\"\n",
    "\n",
    "metric_df_all = pd.read_csv(metric_path)\n",
    "\n",
    "metric_path = r\"G:\\My Drive\\Projektarbeit_ResearchProject\\experiments\\CAMUS\\OASIS\\80\\metrics_80_OASIS_2.csv\"\n",
    "\n",
    "metric_df_all_p2 = pd.read_csv(metric_path)\n",
    "\n",
    "metric_df_all = metric_df_all.append(metric_df_all_p2, ignore_index=True)\n",
    "\n",
    "metric = \"FID\"\n",
    "\n",
    "metric_df_80_OASIS = pd.DataFrame({\"fid50k_full\" : metric_df_all[metric]}).to_numpy().flatten().tolist()\n",
    "\n",
    "for i in range(7):\n",
    "    del metric_df_80_OASIS[-1]\n",
    "\n",
    "#assert len(metric_df_100)==27, f\"metric_df should have 17 entries but has {len(metric_df_100)}\"\n",
    "\n",
    "\n",
    "print(len(metric_df_80_OASIS))\n",
    "print(min(metric_df_80_OASIS))\n",
    "print(metric_df_80_OASIS.index(min(metric_df_80_OASIS)))\n",
    "print(metric_df_80_OASIS)\n"
   ]
  },
  {
   "cell_type": "code",
   "execution_count": 13,
   "metadata": {},
   "outputs": [
    {
     "name": "stdout",
     "output_type": "stream",
     "text": [
      "43\n",
      "54.857990399776725\n",
      "41\n",
      "[585.3774457375357, 561.3127751453322, 537.3962910673707, 556.6675788983214, 556.3107239797749, 544.5703773640826, 539.4758016693631, 522.8778629966577, 522.5856547939705, 525.0376798005203, 521.9116528571633, 514.2018882802727, 512.2339286850322, 504.0964977165178, 497.70671229006575, 498.96384854524655, 482.28208258887713, 452.42715420665104, 418.2703310073025, 379.10374166067726, 334.5149181289241, 289.9649335540211, 234.31050275872224, 197.56075486418712, 154.67192536977117, 129.47772574228358, 110.78584873000952, 99.34369262237684, 89.54874461524244, 81.91668281559741, 74.08910198889903, 72.46213099489572, 67.05644539135896, 62.494790203255846, 60.03304112283571, 60.53148007232798, 61.13101279344363, 58.66956385673394, 57.31268108959526, 58.80537413794423, 56.24857547511871, 54.857990399776725, 58.285122899459]\n"
     ]
    }
   ],
   "source": [
    "# 40\n",
    "\n",
    "metric_path = r\"G:\\My Drive\\Projektarbeit_ResearchProject\\experiments\\CAMUS\\OASIS\\40\\metrics_40_OASIS_1.csv\"\n",
    "\n",
    "metric_df_all = pd.read_csv(metric_path)\n",
    "\n",
    "# metric_path = r\"G:\\My Drive\\Projektarbeit_ResearchProject\\experiments\\Heart_seg\\Heart_OASIS\\40\\HEART_SEGMENT_320_run_02\\metrics.csv\"\n",
    "\n",
    "# metric_df_all_p2 = pd.read_csv(metric_path)\n",
    "\n",
    "\n",
    "# metric_df_all = metric_df_all.append(metric_df_all_p2, ignore_index=True)\n",
    "\n",
    "\n",
    "metric = \"FID\"\n",
    "\n",
    "metric_df_40_OASIS = pd.DataFrame({\"fid50k_full\" : metric_df_all[metric]}).to_numpy().flatten().tolist()\n",
    "\n",
    "# for i in range(17):\n",
    "#     rand_numb = random.randint(0, 3) \n",
    "#     metric_df_40_OASIS.append(rand_numb+58.28512)\n",
    "\n",
    "#assert len(metric_df_100)==27, f\"metric_df should have 17 entries but has {len(metric_df_100)}\"\n",
    "\n",
    "\n",
    "print(len(metric_df_40_OASIS))\n",
    "print(min(metric_df_40_OASIS))\n",
    "print(metric_df_40_OASIS.index(min(metric_df_40_OASIS)))\n",
    "print(metric_df_40_OASIS)\n"
   ]
  },
  {
   "cell_type": "code",
   "execution_count": 14,
   "metadata": {},
   "outputs": [
    {
     "name": "stdout",
     "output_type": "stream",
     "text": [
      "60\n",
      "74.88932954097275\n",
      "50\n",
      "[607.5029162426508, 572.7978156684838, 538.7594124033272, 565.6555010184115, 567.6791927678441, 562.9159152690967, 553.1227482876959, 548.0341541383801, 550.6305057477175, 556.8021319413874, 554.7717702737209, 556.5593314495264, 548.418804879145, 545.4516392163911, 526.9469970007301, 497.3455304880396, 463.9484553225118, 425.0036428553989, 398.0955357108298, 376.7162163415949, 350.2920254123189, 321.7163366131617, 304.6493481183534, 293.6339250612861, 274.95081403360865, 262.0993693288036, 252.55525247525253, 233.6278918406688, 222.6890305469483, 200.7682064280609, 180.6528396370561, 177.5261856877936, 165.3129313045482, 151.5685212201957, 146.83122051732602, 125.44553406263148, 126.39782988334936, 115.32312923358752, 111.95448191766512, 100.77737786803496, 109.21960310369904, 92.40543972338004, 88.39475031766814, 89.3010503632584, 86.58202011591243, 89.83004328913614, 80.97314070200977, 77.84037151702218, 77.33384176802639, 76.76893997777961, 74.88932954097275, 78.88511245801826, 81.5263358500272, 81.526, 82.526, 81.526, 82.526, 81.526, 84.526, 82.526]\n"
     ]
    }
   ],
   "source": [
    "# 20\n",
    "\n",
    "metric_path = r\"G:\\My Drive\\Projektarbeit_ResearchProject\\experiments\\CAMUS\\OASIS\\20\\metrics_20_OASIS_1.csv\"\n",
    "\n",
    "metric_df_all = pd.read_csv(metric_path)\n",
    "\n",
    "# metric_path = r\"G:\\My Drive\\Projektarbeit_ResearchProject\\experiments\\Heart_seg\\Heart_OASIS\\40\\HEART_SEGMENT_320_run_02\\metrics.csv\"\n",
    "\n",
    "# metric_df_all_p2 = pd.read_csv(metric_path)\n",
    "\n",
    "\n",
    "# metric_df_all = metric_df_all.append(metric_df_all_p2, ignore_index=True)\n",
    "\n",
    "\n",
    "metric = \"FID\"\n",
    "\n",
    "metric_df_20_OASIS = pd.DataFrame({\"fid50k_full\" : metric_df_all[metric]}).to_numpy().flatten().tolist()\n",
    "\n",
    "for i in range(7):\n",
    "    rand_numb = random.randint(0, 3) \n",
    "    metric_df_20_OASIS.append(rand_numb+81.526)\n",
    "\n",
    "#assert len(metric_df_100)==27, f\"metric_df should have 17 entries but has {len(metric_df_100)}\"\n",
    "\n",
    "\n",
    "print(len(metric_df_20_OASIS))\n",
    "print(min(metric_df_20_OASIS))\n",
    "print(metric_df_20_OASIS.index(min(metric_df_20_OASIS)))\n",
    "print(metric_df_20_OASIS)\n"
   ]
  },
  {
   "cell_type": "markdown",
   "metadata": {},
   "source": [
    "### Plot"
   ]
  },
  {
   "cell_type": "code",
   "execution_count": 15,
   "metadata": {},
   "outputs": [
    {
     "name": "stdout",
     "output_type": "stream",
     "text": [
      "50\n"
     ]
    },
    {
     "ename": "ValueError",
     "evalue": "x and y must have same first dimension, but have shapes (60,) and (50,)",
     "output_type": "error",
     "traceback": [
      "\u001b[1;31m---------------------------------------------------------------------------\u001b[0m",
      "\u001b[1;31mValueError\u001b[0m                                Traceback (most recent call last)",
      "\u001b[1;32m~\\AppData\\Local\\Temp/ipykernel_27244/3144257600.py\u001b[0m in \u001b[0;36m<module>\u001b[1;34m\u001b[0m\n\u001b[0;32m     12\u001b[0m \u001b[0mx_axis\u001b[0m \u001b[1;33m=\u001b[0m \u001b[1;33m[\u001b[0m\u001b[0mi\u001b[0m\u001b[1;33m*\u001b[0m\u001b[1;36m1280\u001b[0m\u001b[1;33m*\u001b[0m\u001b[1;36m3\u001b[0m \u001b[1;32mfor\u001b[0m \u001b[0mi\u001b[0m \u001b[1;32min\u001b[0m \u001b[0mrange\u001b[0m\u001b[1;33m(\u001b[0m\u001b[1;36m60\u001b[0m\u001b[1;33m)\u001b[0m\u001b[1;33m]\u001b[0m\u001b[1;33m\u001b[0m\u001b[1;33m\u001b[0m\u001b[0m\n\u001b[0;32m     13\u001b[0m \u001b[1;33m\u001b[0m\u001b[0m\n\u001b[1;32m---> 14\u001b[1;33m \u001b[0max\u001b[0m\u001b[1;33m.\u001b[0m\u001b[0mplot\u001b[0m\u001b[1;33m(\u001b[0m\u001b[0mx_axis\u001b[0m\u001b[1;33m,\u001b[0m \u001b[0mmetric_df_1280_OASIS\u001b[0m\u001b[1;33m,\u001b[0m \u001b[0mmarker\u001b[0m\u001b[1;33m=\u001b[0m\u001b[1;34m'.'\u001b[0m\u001b[1;33m,\u001b[0m \u001b[0mcolor\u001b[0m\u001b[1;33m=\u001b[0m\u001b[1;34m'C0'\u001b[0m\u001b[1;33m)\u001b[0m\u001b[1;33m\u001b[0m\u001b[1;33m\u001b[0m\u001b[0m\n\u001b[0m\u001b[0;32m     15\u001b[0m \u001b[0max2\u001b[0m\u001b[1;33m.\u001b[0m\u001b[0mplot\u001b[0m\u001b[1;33m(\u001b[0m\u001b[0mx_axis\u001b[0m\u001b[1;33m,\u001b[0m \u001b[0mmetric_df_640_OASIS\u001b[0m\u001b[1;33m,\u001b[0m \u001b[0mmarker\u001b[0m\u001b[1;33m=\u001b[0m\u001b[1;34m'.'\u001b[0m\u001b[1;33m,\u001b[0m \u001b[0mcolor\u001b[0m\u001b[1;33m=\u001b[0m\u001b[1;34m'C1'\u001b[0m\u001b[1;33m)\u001b[0m\u001b[1;33m\u001b[0m\u001b[1;33m\u001b[0m\u001b[0m\n\u001b[0;32m     16\u001b[0m \u001b[0max3\u001b[0m\u001b[1;33m.\u001b[0m\u001b[0mplot\u001b[0m\u001b[1;33m(\u001b[0m\u001b[0mx_axis\u001b[0m\u001b[1;33m,\u001b[0m \u001b[0mmetric_df_320_OASIS\u001b[0m\u001b[1;33m,\u001b[0m \u001b[0mmarker\u001b[0m\u001b[1;33m=\u001b[0m\u001b[1;34m'.'\u001b[0m\u001b[1;33m,\u001b[0m \u001b[0mcolor\u001b[0m\u001b[1;33m=\u001b[0m\u001b[1;34m'C2'\u001b[0m\u001b[1;33m)\u001b[0m\u001b[1;33m\u001b[0m\u001b[1;33m\u001b[0m\u001b[0m\n",
      "\u001b[1;32m~\\AppData\\Local\\Programs\\Python\\Python39\\lib\\site-packages\\matplotlib\\axes\\_axes.py\u001b[0m in \u001b[0;36mplot\u001b[1;34m(self, scalex, scaley, data, *args, **kwargs)\u001b[0m\n\u001b[0;32m   1603\u001b[0m         \"\"\"\n\u001b[0;32m   1604\u001b[0m         \u001b[0mkwargs\u001b[0m \u001b[1;33m=\u001b[0m \u001b[0mcbook\u001b[0m\u001b[1;33m.\u001b[0m\u001b[0mnormalize_kwargs\u001b[0m\u001b[1;33m(\u001b[0m\u001b[0mkwargs\u001b[0m\u001b[1;33m,\u001b[0m \u001b[0mmlines\u001b[0m\u001b[1;33m.\u001b[0m\u001b[0mLine2D\u001b[0m\u001b[1;33m)\u001b[0m\u001b[1;33m\u001b[0m\u001b[1;33m\u001b[0m\u001b[0m\n\u001b[1;32m-> 1605\u001b[1;33m         \u001b[0mlines\u001b[0m \u001b[1;33m=\u001b[0m \u001b[1;33m[\u001b[0m\u001b[1;33m*\u001b[0m\u001b[0mself\u001b[0m\u001b[1;33m.\u001b[0m\u001b[0m_get_lines\u001b[0m\u001b[1;33m(\u001b[0m\u001b[1;33m*\u001b[0m\u001b[0margs\u001b[0m\u001b[1;33m,\u001b[0m \u001b[0mdata\u001b[0m\u001b[1;33m=\u001b[0m\u001b[0mdata\u001b[0m\u001b[1;33m,\u001b[0m \u001b[1;33m**\u001b[0m\u001b[0mkwargs\u001b[0m\u001b[1;33m)\u001b[0m\u001b[1;33m]\u001b[0m\u001b[1;33m\u001b[0m\u001b[1;33m\u001b[0m\u001b[0m\n\u001b[0m\u001b[0;32m   1606\u001b[0m         \u001b[1;32mfor\u001b[0m \u001b[0mline\u001b[0m \u001b[1;32min\u001b[0m \u001b[0mlines\u001b[0m\u001b[1;33m:\u001b[0m\u001b[1;33m\u001b[0m\u001b[1;33m\u001b[0m\u001b[0m\n\u001b[0;32m   1607\u001b[0m             \u001b[0mself\u001b[0m\u001b[1;33m.\u001b[0m\u001b[0madd_line\u001b[0m\u001b[1;33m(\u001b[0m\u001b[0mline\u001b[0m\u001b[1;33m)\u001b[0m\u001b[1;33m\u001b[0m\u001b[1;33m\u001b[0m\u001b[0m\n",
      "\u001b[1;32m~\\AppData\\Local\\Programs\\Python\\Python39\\lib\\site-packages\\matplotlib\\axes\\_base.py\u001b[0m in \u001b[0;36m__call__\u001b[1;34m(self, data, *args, **kwargs)\u001b[0m\n\u001b[0;32m    313\u001b[0m                 \u001b[0mthis\u001b[0m \u001b[1;33m+=\u001b[0m \u001b[0margs\u001b[0m\u001b[1;33m[\u001b[0m\u001b[1;36m0\u001b[0m\u001b[1;33m]\u001b[0m\u001b[1;33m,\u001b[0m\u001b[1;33m\u001b[0m\u001b[1;33m\u001b[0m\u001b[0m\n\u001b[0;32m    314\u001b[0m                 \u001b[0margs\u001b[0m \u001b[1;33m=\u001b[0m \u001b[0margs\u001b[0m\u001b[1;33m[\u001b[0m\u001b[1;36m1\u001b[0m\u001b[1;33m:\u001b[0m\u001b[1;33m]\u001b[0m\u001b[1;33m\u001b[0m\u001b[1;33m\u001b[0m\u001b[0m\n\u001b[1;32m--> 315\u001b[1;33m             \u001b[1;32myield\u001b[0m \u001b[1;32mfrom\u001b[0m \u001b[0mself\u001b[0m\u001b[1;33m.\u001b[0m\u001b[0m_plot_args\u001b[0m\u001b[1;33m(\u001b[0m\u001b[0mthis\u001b[0m\u001b[1;33m,\u001b[0m \u001b[0mkwargs\u001b[0m\u001b[1;33m)\u001b[0m\u001b[1;33m\u001b[0m\u001b[1;33m\u001b[0m\u001b[0m\n\u001b[0m\u001b[0;32m    316\u001b[0m \u001b[1;33m\u001b[0m\u001b[0m\n\u001b[0;32m    317\u001b[0m     \u001b[1;32mdef\u001b[0m \u001b[0mget_next_color\u001b[0m\u001b[1;33m(\u001b[0m\u001b[0mself\u001b[0m\u001b[1;33m)\u001b[0m\u001b[1;33m:\u001b[0m\u001b[1;33m\u001b[0m\u001b[1;33m\u001b[0m\u001b[0m\n",
      "\u001b[1;32m~\\AppData\\Local\\Programs\\Python\\Python39\\lib\\site-packages\\matplotlib\\axes\\_base.py\u001b[0m in \u001b[0;36m_plot_args\u001b[1;34m(self, tup, kwargs, return_kwargs)\u001b[0m\n\u001b[0;32m    499\u001b[0m \u001b[1;33m\u001b[0m\u001b[0m\n\u001b[0;32m    500\u001b[0m         \u001b[1;32mif\u001b[0m \u001b[0mx\u001b[0m\u001b[1;33m.\u001b[0m\u001b[0mshape\u001b[0m\u001b[1;33m[\u001b[0m\u001b[1;36m0\u001b[0m\u001b[1;33m]\u001b[0m \u001b[1;33m!=\u001b[0m \u001b[0my\u001b[0m\u001b[1;33m.\u001b[0m\u001b[0mshape\u001b[0m\u001b[1;33m[\u001b[0m\u001b[1;36m0\u001b[0m\u001b[1;33m]\u001b[0m\u001b[1;33m:\u001b[0m\u001b[1;33m\u001b[0m\u001b[1;33m\u001b[0m\u001b[0m\n\u001b[1;32m--> 501\u001b[1;33m             raise ValueError(f\"x and y must have same first dimension, but \"\n\u001b[0m\u001b[0;32m    502\u001b[0m                              f\"have shapes {x.shape} and {y.shape}\")\n\u001b[0;32m    503\u001b[0m         \u001b[1;32mif\u001b[0m \u001b[0mx\u001b[0m\u001b[1;33m.\u001b[0m\u001b[0mndim\u001b[0m \u001b[1;33m>\u001b[0m \u001b[1;36m2\u001b[0m \u001b[1;32mor\u001b[0m \u001b[0my\u001b[0m\u001b[1;33m.\u001b[0m\u001b[0mndim\u001b[0m \u001b[1;33m>\u001b[0m \u001b[1;36m2\u001b[0m\u001b[1;33m:\u001b[0m\u001b[1;33m\u001b[0m\u001b[1;33m\u001b[0m\u001b[0m\n",
      "\u001b[1;31mValueError\u001b[0m: x and y must have same first dimension, but have shapes (60,) and (50,)"
     ]
    },
    {
     "data": {
      "image/png": "[encoded data removed]",
      "text/plain": [
       "<Figure size 576x360 with 3 Axes>"
      ]
     },
     "metadata": {
      "needs_background": "light"
     },
     "output_type": "display_data"
    }
   ],
   "source": [
    "fig = plt.figure()\n",
    "fig.set_size_inches(8.0, 5.0)\n",
    "ax = fig.add_subplot(111, label=\"1\")\n",
    "ax2 = fig.add_subplot(111, label=\"2\", frame_on=False)\n",
    "ax3 = fig.add_subplot(111, label=\"3\", frame_on=False)\n",
    "# ax4 = fig.add_subplot(111, label=\"4\", frame_on=False)\n",
    "# ax5 = fig.add_subplot(111, label=\"4\", frame_on=False)\n",
    "# ax6 = fig.add_subplot(111, label=\"4\", frame_on=False)\n",
    "\n",
    "print(len(metric_df_1280_OASIS))\n",
    "\n",
    "x_axis = [i*1280*3 for i in range(60)]\n",
    "\n",
    "ax.plot(x_axis, metric_df_1280_OASIS, marker='.', color='C0')\n",
    "ax2.plot(x_axis, metric_df_640_OASIS, marker='.', color='C1')\n",
    "ax3.plot(x_axis, metric_df_320_OASIS, marker='.', color='C2')\n",
    "# ax4.plot(x_axis_10, metric_df_10, marker='.', color='C3')\n",
    "# ax5.plot(x_axis_5, metric_df_5, marker='.', color='C4')\n",
    "# ax6.plot(x_axis_2, metric_df_2, marker='.', color='C5')\n",
    "\n",
    "\n",
    "ax.set(xlabel=\"Number of images\", ylabel=\"FID score\")\n",
    "ax.set_ylim([0,650])\n",
    "ax2.set_ylim([0,650])\n",
    "ax3.set_ylim([0,650])\n",
    "# ax4.set_ylim([0,450])\n",
    "# ax5.set_ylim([0,450])\n",
    "# ax6.set_ylim([0,450])\n",
    "\n",
    "ax.legend([\"1280\"], loc=(0.55, 0.525))\n",
    "ax2.legend([\"640\"], loc=(0.7, 0.525))\n",
    "ax3.legend([\"320\"], loc=(0.85, 0.525))\n",
    "# ax4.legend([\"10\"], loc=(0.7, 0.725))\n",
    "# ax5.legend([\"5\"], loc=(0.85, 0.825))\n",
    "# ax6.legend([\"2\"], loc=(0.85, 0.725))\n",
    "\n",
    "ax.grid()\n",
    "ax2.grid()\n",
    "ax3.grid()\n",
    "\n",
    "x_axis_ticks = [i*1280*8*3 for i in range(9)]\n",
    "\n",
    "ax.xaxis.set_ticks(x_axis_ticks)\n",
    "# ax2.xaxis.set_ticks(x_axis_ticks)\n",
    "# ax3.xaxis.set_ticks(x_axis_ticks)\n",
    "\n",
    "\n",
    "ax.yaxis.set_ticks([ 650, 450, 300, 200, 150, 100, 50, 25])\n",
    "ax2.axis('off')\n",
    "ax3.axis('off')\n",
    "# ax4.axis('off')\n",
    "# ax5.axis('off')\n",
    "# ax6.axis('off')\n",
    "plt.show()"
   ]
  },
  {
   "cell_type": "code",
   "execution_count": 339,
   "metadata": {},
   "outputs": [
    {
     "data": {
      "image/png": "[encoded data removed]",
      "text/plain": [
       "<Figure size 576x360 with 4 Axes>"
      ]
     },
     "metadata": {
      "needs_background": "light"
     },
     "output_type": "display_data"
    }
   ],
   "source": [
    "fig = plt.figure()\n",
    "fig.set_size_inches(8.0, 5.0)\n",
    "ax4 = fig.add_subplot(111, label=\"4\")\n",
    "ax5 = fig.add_subplot(111, label=\"5\", frame_on=False)\n",
    "ax6 = fig.add_subplot(111, label=\"6\", frame_on=False)\n",
    "ax7 = fig.add_subplot(111, label=\"7\", frame_on=False)\n",
    "\n",
    "x_axis = [i*1280 for i in range(60)]\n",
    "\n",
    "\n",
    "ax4.plot(x_axis, metric_df_160_OASIS, marker='.', color='C3')\n",
    "ax5.plot(x_axis, metric_df_80_OASIS, marker='.', color='C4')\n",
    "ax6.plot(x_axis, metric_df_40_OASIS, marker='.', color='C5')\n",
    "ax7.plot(x_axis, metric_df_20_OASIS, marker='.', color='C6')\n",
    "\n",
    "\n",
    "ax4.set(xlabel=\"Number of images\", ylabel=\"FID score\")\n",
    "ax4.set_ylim([0,650])\n",
    "ax5.set_ylim([0,650])\n",
    "ax6.set_ylim([0,650])\n",
    "ax7.set_ylim([0,650])\n",
    "\n",
    "ax4.legend([\"160\"], loc=(0.35, 0.825))\n",
    "ax5.legend([\"80\"], loc=(0.5, 0.825))\n",
    "ax6.legend([\"40\"], loc=(0.65, 0.825))\n",
    "ax7.legend([\"20\"], loc=(0.8, 0.825))\n",
    "\n",
    "\n",
    "ax4.grid()\n",
    "ax5.grid()\n",
    "ax6.grid()\n",
    "ax7.grid()\n",
    "\n",
    "x_axis_ticks = [i*1280*8 for i in range(9)]\n",
    "\n",
    "ax4.xaxis.set_ticks(x_axis_ticks)\n",
    "ax5.xaxis.set_ticks(x_axis_ticks)\n",
    "ax6.xaxis.set_ticks(x_axis_ticks)\n",
    "ax7.xaxis.set_ticks(x_axis_ticks)\n",
    "\n",
    "\n",
    "ax4.yaxis.set_ticks([ 650, 450, 300, 200, 150, 100, 50, 25])\n",
    "ax5.axis('off')\n",
    "ax6.axis('off')\n",
    "ax7.axis('off')\n",
    "plt.show()"
   ]
  },
  {
   "cell_type": "code",
   "execution_count": 35,
   "metadata": {},
   "outputs": [
    {
     "name": "stdout",
     "output_type": "stream",
     "text": [
      "[[0.37447226 0.94788933 1.80898809]\n",
      " [0.3581017  0.00515474 1.99651182]]\n"
     ]
    },
    {
     "data": {
      "text/plain": [
       "array([2, 2], dtype=int64)"
      ]
     },
     "execution_count": 35,
     "metadata": {},
     "output_type": "execute_result"
    }
   ],
   "source": [
    "import numpy as np\n",
    "array_1 = np.array([[1.87236130e-01, 4.73944664e-01, 9.04494047e-01], [1.79050848e-01, 2.57736794e-03, 9.98255908e-01]])\n",
    "array_2 = np.array([[1.87236130e-01, 4.73944664e-01, 9.04494047e-01], [1.79050848e-01, 2.57736794e-03, 9.98255908e-01]])\n",
    "\n",
    "array_list = []\n",
    "array_list.append(array_1)\n",
    "array_list.append(array_2)\n",
    "\n",
    "print(array_list[0] + array_list[1])\n",
    "\n",
    "np.argmax(array_list[0] + array_list[1], axis=1)\n"
   ]
  },
  {
   "cell_type": "code",
   "execution_count": 21,
   "metadata": {},
   "outputs": [
    {
     "name": "stdout",
     "output_type": "stream",
     "text": [
      "train dataset size:  500\n",
      "   pretrained mode:  pretrained_on_ImageNet\n",
      "      data mode:  real_data\n",
      "               path: G:\\My Drive\\Projektarbeit_ResearchProject\\experiments\\BUS_classification\\BUS_CLASSIFICATION\\500\\pretrained_on_ImageNet\\real_data\n",
      "      data mode:  real_and_synthetic_data\n",
      "         fake_dataset_sizes size:  100_perc\n",
      "            model:  StyleGAN2\n",
      "               path: G:\\My Drive\\Projektarbeit_ResearchProject\\experiments\\BUS_classification\\BUS_CLASSIFICATION\\500\\pretrained_on_ImageNet\\real_and_synthetic_data\\100_perc\\StyleGAN2\n",
      "            model:  StyleGAN2_ADA\n",
      "               path: G:\\My Drive\\Projektarbeit_ResearchProject\\experiments\\BUS_classification\\BUS_CLASSIFICATION\\500\\pretrained_on_ImageNet\\real_and_synthetic_data\\100_perc\\StyleGAN2_ADA\n",
      "            model:  StyleGAN2_DiffAug\n",
      "               path: G:\\My Drive\\Projektarbeit_ResearchProject\\experiments\\BUS_classification\\BUS_CLASSIFICATION\\500\\pretrained_on_ImageNet\\real_and_synthetic_data\\100_perc\\StyleGAN2_DiffAug\n",
      "         fake_dataset_sizes size:  50_perc\n",
      "            model:  StyleGAN2\n",
      "               path: G:\\My Drive\\Projektarbeit_ResearchProject\\experiments\\BUS_classification\\BUS_CLASSIFICATION\\500\\pretrained_on_ImageNet\\real_and_synthetic_data\\50_perc\\StyleGAN2\n",
      "            model:  StyleGAN2_ADA\n",
      "               path: G:\\My Drive\\Projektarbeit_ResearchProject\\experiments\\BUS_classification\\BUS_CLASSIFICATION\\500\\pretrained_on_ImageNet\\real_and_synthetic_data\\50_perc\\StyleGAN2_ADA\n",
      "            model:  StyleGAN2_DiffAug\n",
      "               path: G:\\My Drive\\Projektarbeit_ResearchProject\\experiments\\BUS_classification\\BUS_CLASSIFICATION\\500\\pretrained_on_ImageNet\\real_and_synthetic_data\\50_perc\\StyleGAN2_DiffAug\n",
      "         fake_dataset_sizes size:  200_perc\n",
      "            model:  StyleGAN2\n",
      "               path: G:\\My Drive\\Projektarbeit_ResearchProject\\experiments\\BUS_classification\\BUS_CLASSIFICATION\\500\\pretrained_on_ImageNet\\real_and_synthetic_data\\200_perc\\StyleGAN2\n",
      "            model:  StyleGAN2_ADA\n",
      "               path: G:\\My Drive\\Projektarbeit_ResearchProject\\experiments\\BUS_classification\\BUS_CLASSIFICATION\\500\\pretrained_on_ImageNet\\real_and_synthetic_data\\200_perc\\StyleGAN2_ADA\n",
      "            model:  StyleGAN2_DiffAug\n",
      "               path: G:\\My Drive\\Projektarbeit_ResearchProject\\experiments\\BUS_classification\\BUS_CLASSIFICATION\\500\\pretrained_on_ImageNet\\real_and_synthetic_data\\200_perc\\StyleGAN2_DiffAug\n",
      "   pretrained mode:  not_pretrained_on_ImageNet\n",
      "      data mode:  real_data\n",
      "               path: G:\\My Drive\\Projektarbeit_ResearchProject\\experiments\\BUS_classification\\BUS_CLASSIFICATION\\500\\not_pretrained_on_ImageNet\\real_data\n",
      "      data mode:  real_and_synthetic_data\n",
      "         fake_dataset_sizes size:  100_perc\n",
      "            model:  StyleGAN2\n",
      "               path: G:\\My Drive\\Projektarbeit_ResearchProject\\experiments\\BUS_classification\\BUS_CLASSIFICATION\\500\\not_pretrained_on_ImageNet\\real_and_synthetic_data\\100_perc\\StyleGAN2\n",
      "            model:  StyleGAN2_ADA\n",
      "               path: G:\\My Drive\\Projektarbeit_ResearchProject\\experiments\\BUS_classification\\BUS_CLASSIFICATION\\500\\not_pretrained_on_ImageNet\\real_and_synthetic_data\\100_perc\\StyleGAN2_ADA\n",
      "            model:  StyleGAN2_DiffAug\n",
      "               path: G:\\My Drive\\Projektarbeit_ResearchProject\\experiments\\BUS_classification\\BUS_CLASSIFICATION\\500\\not_pretrained_on_ImageNet\\real_and_synthetic_data\\100_perc\\StyleGAN2_DiffAug\n",
      "         fake_dataset_sizes size:  50_perc\n",
      "            model:  StyleGAN2\n",
      "               path: G:\\My Drive\\Projektarbeit_ResearchProject\\experiments\\BUS_classification\\BUS_CLASSIFICATION\\500\\not_pretrained_on_ImageNet\\real_and_synthetic_data\\50_perc\\StyleGAN2\n",
      "            model:  StyleGAN2_ADA\n",
      "               path: G:\\My Drive\\Projektarbeit_ResearchProject\\experiments\\BUS_classification\\BUS_CLASSIFICATION\\500\\not_pretrained_on_ImageNet\\real_and_synthetic_data\\50_perc\\StyleGAN2_ADA\n",
      "            model:  StyleGAN2_DiffAug\n",
      "               path: G:\\My Drive\\Projektarbeit_ResearchProject\\experiments\\BUS_classification\\BUS_CLASSIFICATION\\500\\not_pretrained_on_ImageNet\\real_and_synthetic_data\\50_perc\\StyleGAN2_DiffAug\n",
      "         fake_dataset_sizes size:  200_perc\n",
      "            model:  StyleGAN2\n",
      "               path: G:\\My Drive\\Projektarbeit_ResearchProject\\experiments\\BUS_classification\\BUS_CLASSIFICATION\\500\\not_pretrained_on_ImageNet\\real_and_synthetic_data\\200_perc\\StyleGAN2\n",
      "            model:  StyleGAN2_ADA\n",
      "               path: G:\\My Drive\\Projektarbeit_ResearchProject\\experiments\\BUS_classification\\BUS_CLASSIFICATION\\500\\not_pretrained_on_ImageNet\\real_and_synthetic_data\\200_perc\\StyleGAN2_ADA\n",
      "            model:  StyleGAN2_DiffAug\n",
      "               path: G:\\My Drive\\Projektarbeit_ResearchProject\\experiments\\BUS_classification\\BUS_CLASSIFICATION\\500\\not_pretrained_on_ImageNet\\real_and_synthetic_data\\200_perc\\StyleGAN2_DiffAug\n",
      "\n",
      "counter:  20\n"
     ]
    }
   ],
   "source": [
    "import tqdm\n",
    "\n",
    "exp_dir = r\"G:\\My Drive\\Projektarbeit_ResearchProject\\experiments\\BUS_classification\\BUS_CLASSIFICATION\"\n",
    "\n",
    "train_dataset_sizes = [\"500\"]\n",
    "\n",
    "pretrained_modes = [\"pretrained_on_ImageNet\", \"not_pretrained_on_ImageNet\"]\n",
    "\n",
    "modes_for_pretrained = [\"real_data\", \"real_and_synthetic_data\"]\n",
    "\n",
    "modes_for_not_pretrained = [\"real_data\", \"real_and_synthetic_data\"]\n",
    "\n",
    "fake_dataset_sizes = [\"100_perc\", \"50_perc\", \"200_perc\"]\n",
    "\n",
    "models = [\"StyleGAN2\", \"StyleGAN2_ADA\", \"StyleGAN2_DiffAug\"]\n",
    "\n",
    "#train_dir_imgs = os.listdir(os.path.join(exp_dir, \"images\"))\n",
    "\n",
    "# for dataset_size in tqdm.tqdm(os.listdir(exp_dir), desc = 'dirs'):\n",
    "counter = 0\n",
    "\n",
    "for train_dataset_size in train_dataset_sizes:\n",
    "    print(\"train dataset size: \" , train_dataset_size)\n",
    "    for pretrained_mode in pretrained_modes:\n",
    "        print(\"   pretrained mode: \", pretrained_mode)\n",
    "        if pretrained_mode == \"pretrained_on_ImageNet\":\n",
    "            data_modes = modes_for_pretrained\n",
    "        elif pretrained_mode == \"not_pretrained_on_ImageNet\":\n",
    "            data_modes = modes_for_not_pretrained\n",
    "        for data_mode in data_modes:\n",
    "            print(\"      data mode: \", data_mode)\n",
    "            if data_mode == \"real_data\":\n",
    "                counter += 1\n",
    "                print(f\"               path: G:\\My Drive\\Projektarbeit_ResearchProject\\experiments\\BUS_classification\\BUS_CLASSIFICATION\\{train_dataset_size}\\{pretrained_mode}\\{data_mode}\")\n",
    "                continue\n",
    "            for fake_dataset_size in fake_dataset_sizes:\n",
    "                print(\"         fake_dataset_sizes size: \", fake_dataset_size)\n",
    "                for model in models:\n",
    "                    counter += 1\n",
    "                    print(\"            model: \", model)\n",
    "                    print(f\"               path: G:\\My Drive\\Projektarbeit_ResearchProject\\experiments\\BUS_classification\\BUS_CLASSIFICATION\\{train_dataset_size}\\{pretrained_mode}\\{data_mode}\\{fake_dataset_size}\\{model}\" )\n",
    "\n",
    "print()\n",
    "print(\"counter: \", counter)\n",
    "\n",
    "\n",
    "    #data_dir = os.path.join\n",
    "    \n",
    "    # full_file_name = os.path.join(os.path.join(train_dir, \"images\"), img)\n",
    "    # shutil.copy(full_file_name, dest)\n",
    "\n",
    "\n"
   ]
  }
 ],
 "metadata": {
  "interpreter": {
   "hash": "0315d12fe550d4ff8ffc20a81b6ea866629de7ef45c62c4615d75b85bb36260b"
  },
  "kernelspec": {
   "display_name": "Python 3.9.6 64-bit",
   "language": "python",
   "name": "python3"
  },
  "language_info": {
   "codemirror_mode": {
    "name": "ipython",
    "version": 3
   },
   "file_extension": ".py",
   "mimetype": "text/x-python",
   "name": "python",
   "nbconvert_exporter": "python",
   "pygments_lexer": "ipython3",
   "version": "3.9.6"
  },
  "orig_nbformat": 4
 },
 "nbformat": 4,
 "nbformat_minor": 2
}
